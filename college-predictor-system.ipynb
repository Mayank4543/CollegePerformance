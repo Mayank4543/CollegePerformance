{
 "cells": [
  {
   "cell_type": "markdown",
   "metadata": {},
   "source": []
  },
  {
   "cell_type": "markdown",
   "metadata": {},
   "source": [
    "***"
   ]
  },
  {
   "cell_type": "markdown",
   "metadata": {},
   "source": [
    "# <h1 style='background:#000099; border:0; color:white; padding-top: 20px'><center>EDA : IIT-NIT category-wise cutoff data</center></h1> "
   ]
  },
  {
   "cell_type": "markdown",
   "metadata": {},
   "source": [
    "## **<span style=\"color: #ff3385;\">📥 Before we get started! Let's get our Imports</span>**"
   ]
  },
  {
   "cell_type": "code",
   "execution_count": 1,
   "metadata": {
    "execution": {
     "iopub.execute_input": "2023-04-04T15:04:34.216679Z",
     "iopub.status.busy": "2023-04-04T15:04:34.216209Z",
     "iopub.status.idle": "2023-04-04T15:04:34.404116Z",
     "shell.execute_reply": "2023-04-04T15:04:34.403014Z",
     "shell.execute_reply.started": "2023-04-04T15:04:34.216640Z"
    },
    "trusted": true
   },
   "outputs": [],
   "source": [
    "#imports\n",
    "import pandas as pd\n",
    "import numpy as np\n",
    "import matplotlib.pyplot as plt\n",
    "import seaborn as sns\n",
    "\n"
   ]
  },
  {
   "cell_type": "code",
   "execution_count": 2,
   "metadata": {
    "execution": {
     "iopub.execute_input": "2023-04-04T15:04:35.430869Z",
     "iopub.status.busy": "2023-04-04T15:04:35.430453Z",
     "iopub.status.idle": "2023-04-04T15:04:35.436776Z",
     "shell.execute_reply": "2023-04-04T15:04:35.435440Z",
     "shell.execute_reply.started": "2023-04-04T15:04:35.430838Z"
    },
    "trusted": true
   },
   "outputs": [],
   "source": [
    "import warnings\n",
    "warnings.filterwarnings('ignore')"
   ]
  },
  {
   "cell_type": "markdown",
   "metadata": {},
   "source": [
    "## **<span style=\"color:#ff3385;\">📈 Let's get the Data</span>**"
   ]
  },
  {
   "cell_type": "code",
   "execution_count": 3,
   "metadata": {
    "execution": {
     "iopub.execute_input": "2023-04-04T15:04:41.423512Z",
     "iopub.status.busy": "2023-04-04T15:04:41.422454Z",
     "iopub.status.idle": "2023-04-04T15:04:41.680097Z",
     "shell.execute_reply": "2023-04-04T15:04:41.678943Z",
     "shell.execute_reply.started": "2023-04-04T15:04:41.423470Z"
    },
    "trusted": true
   },
   "outputs": [
    {
     "data": {
      "text/html": [
       "<div>\n",
       "<style scoped>\n",
       "    .dataframe tbody tr th:only-of-type {\n",
       "        vertical-align: middle;\n",
       "    }\n",
       "\n",
       "    .dataframe tbody tr th {\n",
       "        vertical-align: top;\n",
       "    }\n",
       "\n",
       "    .dataframe thead th {\n",
       "        text-align: right;\n",
       "    }\n",
       "</style>\n",
       "<table border=\"1\" class=\"dataframe\">\n",
       "  <thead>\n",
       "    <tr style=\"text-align: right;\">\n",
       "      <th></th>\n",
       "      <th>Unnamed: 0</th>\n",
       "      <th>Unnamed: 0.1</th>\n",
       "      <th>year</th>\n",
       "      <th>institute_type</th>\n",
       "      <th>round_no</th>\n",
       "      <th>quota</th>\n",
       "      <th>pool</th>\n",
       "      <th>institute_short</th>\n",
       "      <th>program_name</th>\n",
       "      <th>program_duration</th>\n",
       "      <th>degree_short</th>\n",
       "      <th>category</th>\n",
       "      <th>opening_rank</th>\n",
       "      <th>closing_rank</th>\n",
       "      <th>is_preparatory</th>\n",
       "    </tr>\n",
       "  </thead>\n",
       "  <tbody>\n",
       "    <tr>\n",
       "      <th>64953</th>\n",
       "      <td>64953</td>\n",
       "      <td>64953</td>\n",
       "      <td>2021</td>\n",
       "      <td>NIT</td>\n",
       "      <td>1</td>\n",
       "      <td>JK</td>\n",
       "      <td>Female-Only</td>\n",
       "      <td>NIT-Srinagar</td>\n",
       "      <td>Electronics and Communication Engineering</td>\n",
       "      <td>4 Years</td>\n",
       "      <td>B.Tech</td>\n",
       "      <td>SC</td>\n",
       "      <td>14185</td>\n",
       "      <td>24048</td>\n",
       "      <td>0</td>\n",
       "    </tr>\n",
       "    <tr>\n",
       "      <th>64954</th>\n",
       "      <td>64954</td>\n",
       "      <td>64954</td>\n",
       "      <td>2021</td>\n",
       "      <td>NIT</td>\n",
       "      <td>1</td>\n",
       "      <td>JK</td>\n",
       "      <td>Gender-Neutral</td>\n",
       "      <td>NIT-Srinagar</td>\n",
       "      <td>Electronics and Communication Engineering</td>\n",
       "      <td>4 Years</td>\n",
       "      <td>B.Tech</td>\n",
       "      <td>ST</td>\n",
       "      <td>2736</td>\n",
       "      <td>4171</td>\n",
       "      <td>0</td>\n",
       "    </tr>\n",
       "    <tr>\n",
       "      <th>64955</th>\n",
       "      <td>64955</td>\n",
       "      <td>64955</td>\n",
       "      <td>2021</td>\n",
       "      <td>NIT</td>\n",
       "      <td>1</td>\n",
       "      <td>JK</td>\n",
       "      <td>Female-Only</td>\n",
       "      <td>NIT-Srinagar</td>\n",
       "      <td>Electronics and Communication Engineering</td>\n",
       "      <td>4 Years</td>\n",
       "      <td>B.Tech</td>\n",
       "      <td>ST</td>\n",
       "      <td>10870</td>\n",
       "      <td>10870</td>\n",
       "      <td>0</td>\n",
       "    </tr>\n",
       "    <tr>\n",
       "      <th>64956</th>\n",
       "      <td>64956</td>\n",
       "      <td>64956</td>\n",
       "      <td>2021</td>\n",
       "      <td>NIT</td>\n",
       "      <td>1</td>\n",
       "      <td>LA</td>\n",
       "      <td>Gender-Neutral</td>\n",
       "      <td>NIT-Srinagar</td>\n",
       "      <td>Electronics and Communication Engineering</td>\n",
       "      <td>4 Years</td>\n",
       "      <td>B.Tech</td>\n",
       "      <td>GEN</td>\n",
       "      <td>166453</td>\n",
       "      <td>265454</td>\n",
       "      <td>0</td>\n",
       "    </tr>\n",
       "    <tr>\n",
       "      <th>64957</th>\n",
       "      <td>64957</td>\n",
       "      <td>64957</td>\n",
       "      <td>2021</td>\n",
       "      <td>NIT</td>\n",
       "      <td>1</td>\n",
       "      <td>LA</td>\n",
       "      <td>Female-Only</td>\n",
       "      <td>NIT-Srinagar</td>\n",
       "      <td>Electronics and Communication Engineering</td>\n",
       "      <td>4 Years</td>\n",
       "      <td>B.Tech</td>\n",
       "      <td>GEN</td>\n",
       "      <td>215054</td>\n",
       "      <td>215054</td>\n",
       "      <td>0</td>\n",
       "    </tr>\n",
       "  </tbody>\n",
       "</table>\n",
       "</div>"
      ],
      "text/plain": [
       "       Unnamed: 0  Unnamed: 0.1  year institute_type  round_no quota  \\\n",
       "64953       64953         64953  2021            NIT         1    JK   \n",
       "64954       64954         64954  2021            NIT         1    JK   \n",
       "64955       64955         64955  2021            NIT         1    JK   \n",
       "64956       64956         64956  2021            NIT         1    LA   \n",
       "64957       64957         64957  2021            NIT         1    LA   \n",
       "\n",
       "                 pool institute_short  \\\n",
       "64953     Female-Only    NIT-Srinagar   \n",
       "64954  Gender-Neutral    NIT-Srinagar   \n",
       "64955     Female-Only    NIT-Srinagar   \n",
       "64956  Gender-Neutral    NIT-Srinagar   \n",
       "64957     Female-Only    NIT-Srinagar   \n",
       "\n",
       "                                    program_name program_duration  \\\n",
       "64953  Electronics and Communication Engineering          4 Years   \n",
       "64954  Electronics and Communication Engineering          4 Years   \n",
       "64955  Electronics and Communication Engineering          4 Years   \n",
       "64956  Electronics and Communication Engineering          4 Years   \n",
       "64957  Electronics and Communication Engineering          4 Years   \n",
       "\n",
       "      degree_short category  opening_rank  closing_rank  is_preparatory  \n",
       "64953       B.Tech       SC         14185         24048               0  \n",
       "64954       B.Tech       ST          2736          4171               0  \n",
       "64955       B.Tech       ST         10870         10870               0  \n",
       "64956       B.Tech      GEN        166453        265454               0  \n",
       "64957       B.Tech      GEN        215054        215054               0  "
      ]
     },
     "execution_count": 3,
     "metadata": {},
     "output_type": "execute_result"
    }
   ],
   "source": [
    "# Read data in a dataframe\n",
    "\n",
    "# A DataFrame is a data structure that organizes data \n",
    "#into a 2-dimensional table of rows and columns, much like a spreadsheet. \n",
    "\n",
    "df = pd.read_csv(r\"C:\\Users\\Mayank Rathore\\Desktop\\College-Predictor-System\\iit-and-nit-colleges-admission-criteria-version-2.csv\")\n",
    "df.tail()"
   ]
  },
  {
   "cell_type": "code",
   "execution_count": 21,
   "metadata": {},
   "outputs": [
    {
     "data": {
      "text/plain": [
       "(64958, 14)"
      ]
     },
     "execution_count": 21,
     "metadata": {},
     "output_type": "execute_result"
    }
   ],
   "source": [
    "df.shape"
   ]
  },
  {
   "cell_type": "code",
   "execution_count": 9,
   "metadata": {
    "execution": {
     "iopub.execute_input": "2023-04-04T15:04:44.838486Z",
     "iopub.status.busy": "2023-04-04T15:04:44.838052Z",
     "iopub.status.idle": "2023-04-04T15:04:44.850717Z",
     "shell.execute_reply": "2023-04-04T15:04:44.849730Z",
     "shell.execute_reply.started": "2023-04-04T15:04:44.838447Z"
    },
    "trusted": true
   },
   "outputs": [],
   "source": [
    "del df[\"Unnamed: 0\"]"
   ]
  },
  {
   "cell_type": "code",
   "execution_count": 10,
   "metadata": {
    "execution": {
     "iopub.execute_input": "2023-04-04T15:04:46.784376Z",
     "iopub.status.busy": "2023-04-04T15:04:46.783218Z",
     "iopub.status.idle": "2023-04-04T15:04:46.804898Z",
     "shell.execute_reply": "2023-04-04T15:04:46.803013Z",
     "shell.execute_reply.started": "2023-04-04T15:04:46.784243Z"
    },
    "trusted": true
   },
   "outputs": [
    {
     "data": {
      "text/html": [
       "<div>\n",
       "<style scoped>\n",
       "    .dataframe tbody tr th:only-of-type {\n",
       "        vertical-align: middle;\n",
       "    }\n",
       "\n",
       "    .dataframe tbody tr th {\n",
       "        vertical-align: top;\n",
       "    }\n",
       "\n",
       "    .dataframe thead th {\n",
       "        text-align: right;\n",
       "    }\n",
       "</style>\n",
       "<table border=\"1\" class=\"dataframe\">\n",
       "  <thead>\n",
       "    <tr style=\"text-align: right;\">\n",
       "      <th></th>\n",
       "      <th>Unnamed: 0.1</th>\n",
       "      <th>year</th>\n",
       "      <th>institute_type</th>\n",
       "      <th>round_no</th>\n",
       "      <th>quota</th>\n",
       "      <th>pool</th>\n",
       "      <th>institute_short</th>\n",
       "      <th>program_name</th>\n",
       "      <th>program_duration</th>\n",
       "      <th>degree_short</th>\n",
       "      <th>category</th>\n",
       "      <th>opening_rank</th>\n",
       "      <th>closing_rank</th>\n",
       "      <th>is_preparatory</th>\n",
       "    </tr>\n",
       "  </thead>\n",
       "  <tbody>\n",
       "    <tr>\n",
       "      <th>0</th>\n",
       "      <td>0</td>\n",
       "      <td>2016</td>\n",
       "      <td>IIT</td>\n",
       "      <td>6</td>\n",
       "      <td>AI</td>\n",
       "      <td>Gender-Neutral</td>\n",
       "      <td>IIT-Bombay</td>\n",
       "      <td>Aerospace Engineering</td>\n",
       "      <td>4 Years</td>\n",
       "      <td>B.Tech</td>\n",
       "      <td>GEN</td>\n",
       "      <td>838</td>\n",
       "      <td>1841</td>\n",
       "      <td>0</td>\n",
       "    </tr>\n",
       "    <tr>\n",
       "      <th>1</th>\n",
       "      <td>1</td>\n",
       "      <td>2016</td>\n",
       "      <td>IIT</td>\n",
       "      <td>6</td>\n",
       "      <td>AI</td>\n",
       "      <td>Gender-Neutral</td>\n",
       "      <td>IIT-Bombay</td>\n",
       "      <td>Aerospace Engineering</td>\n",
       "      <td>4 Years</td>\n",
       "      <td>B.Tech</td>\n",
       "      <td>OBC-NCL</td>\n",
       "      <td>408</td>\n",
       "      <td>1098</td>\n",
       "      <td>0</td>\n",
       "    </tr>\n",
       "    <tr>\n",
       "      <th>2</th>\n",
       "      <td>2</td>\n",
       "      <td>2016</td>\n",
       "      <td>IIT</td>\n",
       "      <td>6</td>\n",
       "      <td>AI</td>\n",
       "      <td>Gender-Neutral</td>\n",
       "      <td>IIT-Bombay</td>\n",
       "      <td>Aerospace Engineering</td>\n",
       "      <td>4 Years</td>\n",
       "      <td>B.Tech</td>\n",
       "      <td>SC</td>\n",
       "      <td>297</td>\n",
       "      <td>468</td>\n",
       "      <td>0</td>\n",
       "    </tr>\n",
       "    <tr>\n",
       "      <th>3</th>\n",
       "      <td>3</td>\n",
       "      <td>2016</td>\n",
       "      <td>IIT</td>\n",
       "      <td>6</td>\n",
       "      <td>AI</td>\n",
       "      <td>Gender-Neutral</td>\n",
       "      <td>IIT-Bombay</td>\n",
       "      <td>Aerospace Engineering</td>\n",
       "      <td>4 Years</td>\n",
       "      <td>B.Tech</td>\n",
       "      <td>ST</td>\n",
       "      <td>79</td>\n",
       "      <td>145</td>\n",
       "      <td>0</td>\n",
       "    </tr>\n",
       "    <tr>\n",
       "      <th>4</th>\n",
       "      <td>4</td>\n",
       "      <td>2016</td>\n",
       "      <td>IIT</td>\n",
       "      <td>6</td>\n",
       "      <td>AI</td>\n",
       "      <td>Gender-Neutral</td>\n",
       "      <td>IIT-Bombay</td>\n",
       "      <td>Aerospace Engineering</td>\n",
       "      <td>4 Years</td>\n",
       "      <td>B.Tech</td>\n",
       "      <td>GEN-PWD</td>\n",
       "      <td>94</td>\n",
       "      <td>94</td>\n",
       "      <td>0</td>\n",
       "    </tr>\n",
       "  </tbody>\n",
       "</table>\n",
       "</div>"
      ],
      "text/plain": [
       "   Unnamed: 0.1  year institute_type  round_no quota            pool  \\\n",
       "0             0  2016            IIT         6    AI  Gender-Neutral   \n",
       "1             1  2016            IIT         6    AI  Gender-Neutral   \n",
       "2             2  2016            IIT         6    AI  Gender-Neutral   \n",
       "3             3  2016            IIT         6    AI  Gender-Neutral   \n",
       "4             4  2016            IIT         6    AI  Gender-Neutral   \n",
       "\n",
       "  institute_short           program_name program_duration degree_short  \\\n",
       "0      IIT-Bombay  Aerospace Engineering          4 Years       B.Tech   \n",
       "1      IIT-Bombay  Aerospace Engineering          4 Years       B.Tech   \n",
       "2      IIT-Bombay  Aerospace Engineering          4 Years       B.Tech   \n",
       "3      IIT-Bombay  Aerospace Engineering          4 Years       B.Tech   \n",
       "4      IIT-Bombay  Aerospace Engineering          4 Years       B.Tech   \n",
       "\n",
       "  category  opening_rank  closing_rank  is_preparatory  \n",
       "0      GEN           838          1841               0  \n",
       "1  OBC-NCL           408          1098               0  \n",
       "2       SC           297           468               0  \n",
       "3       ST            79           145               0  \n",
       "4  GEN-PWD            94            94               0  "
      ]
     },
     "execution_count": 10,
     "metadata": {},
     "output_type": "execute_result"
    }
   ],
   "source": [
    "df.head()"
   ]
  },
  {
   "cell_type": "markdown",
   "metadata": {},
   "source": [
    "## **<span style=\"color:#ff3385;\">👀 Exploring the Data</span>**"
   ]
  },
  {
   "cell_type": "code",
   "execution_count": 11,
   "metadata": {
    "execution": {
     "iopub.execute_input": "2023-04-04T15:04:51.075578Z",
     "iopub.status.busy": "2023-04-04T15:04:51.075109Z",
     "iopub.status.idle": "2023-04-04T15:04:51.125196Z",
     "shell.execute_reply": "2023-04-04T15:04:51.123902Z",
     "shell.execute_reply.started": "2023-04-04T15:04:51.075534Z"
    },
    "trusted": true
   },
   "outputs": [
    {
     "name": "stdout",
     "output_type": "stream",
     "text": [
      "<class 'pandas.core.frame.DataFrame'>\n",
      "RangeIndex: 64958 entries, 0 to 64957\n",
      "Data columns (total 14 columns):\n",
      " #   Column            Non-Null Count  Dtype \n",
      "---  ------            --------------  ----- \n",
      " 0   Unnamed: 0        64958 non-null  int64 \n",
      " 1   year              64958 non-null  int64 \n",
      " 2   institute_type    64958 non-null  object\n",
      " 3   round_no          64958 non-null  int64 \n",
      " 4   quota             64958 non-null  object\n",
      " 5   pool              64958 non-null  object\n",
      " 6   institute_short   64958 non-null  object\n",
      " 7   program_name      64958 non-null  object\n",
      " 8   program_duration  64958 non-null  object\n",
      " 9   degree_short      64958 non-null  object\n",
      " 10  category          64958 non-null  object\n",
      " 11  opening_rank      64958 non-null  int64 \n",
      " 12  closing_rank      64958 non-null  int64 \n",
      " 13  is_preparatory    64958 non-null  int64 \n",
      "dtypes: int64(6), object(8)\n",
      "memory usage: 6.9+ MB\n"
     ]
    }
   ],
   "source": [
    "df.info()"
   ]
  },
  {
   "cell_type": "code",
   "execution_count": 12,
   "metadata": {
    "execution": {
     "iopub.execute_input": "2023-04-04T15:04:52.859898Z",
     "iopub.status.busy": "2023-04-04T15:04:52.859387Z",
     "iopub.status.idle": "2023-04-04T15:04:52.923291Z",
     "shell.execute_reply": "2023-04-04T15:04:52.922036Z",
     "shell.execute_reply.started": "2023-04-04T15:04:52.859860Z"
    },
    "trusted": true
   },
   "outputs": [
    {
     "data": {
      "text/html": [
       "<div>\n",
       "<style scoped>\n",
       "    .dataframe tbody tr th:only-of-type {\n",
       "        vertical-align: middle;\n",
       "    }\n",
       "\n",
       "    .dataframe tbody tr th {\n",
       "        vertical-align: top;\n",
       "    }\n",
       "\n",
       "    .dataframe thead th {\n",
       "        text-align: right;\n",
       "    }\n",
       "</style>\n",
       "<table border=\"1\" class=\"dataframe\">\n",
       "  <thead>\n",
       "    <tr style=\"text-align: right;\">\n",
       "      <th></th>\n",
       "      <th>Unnamed: 0</th>\n",
       "      <th>year</th>\n",
       "      <th>round_no</th>\n",
       "      <th>opening_rank</th>\n",
       "      <th>closing_rank</th>\n",
       "      <th>is_preparatory</th>\n",
       "    </tr>\n",
       "  </thead>\n",
       "  <tbody>\n",
       "    <tr>\n",
       "      <th>count</th>\n",
       "      <td>64958.00000</td>\n",
       "      <td>64958.000000</td>\n",
       "      <td>64958.000000</td>\n",
       "      <td>6.495800e+04</td>\n",
       "      <td>6.495800e+04</td>\n",
       "      <td>64958.000000</td>\n",
       "    </tr>\n",
       "    <tr>\n",
       "      <th>mean</th>\n",
       "      <td>32478.50000</td>\n",
       "      <td>2020.421580</td>\n",
       "      <td>2.609348</td>\n",
       "      <td>8.259642e+03</td>\n",
       "      <td>1.070497e+04</td>\n",
       "      <td>0.047631</td>\n",
       "    </tr>\n",
       "    <tr>\n",
       "      <th>std</th>\n",
       "      <td>18751.90373</td>\n",
       "      <td>1.149762</td>\n",
       "      <td>2.422558</td>\n",
       "      <td>2.679448e+04</td>\n",
       "      <td>3.788101e+04</td>\n",
       "      <td>0.212985</td>\n",
       "    </tr>\n",
       "    <tr>\n",
       "      <th>min</th>\n",
       "      <td>0.00000</td>\n",
       "      <td>2016.000000</td>\n",
       "      <td>1.000000</td>\n",
       "      <td>0.000000e+00</td>\n",
       "      <td>0.000000e+00</td>\n",
       "      <td>0.000000</td>\n",
       "    </tr>\n",
       "    <tr>\n",
       "      <th>25%</th>\n",
       "      <td>16239.25000</td>\n",
       "      <td>2020.000000</td>\n",
       "      <td>1.000000</td>\n",
       "      <td>6.710000e+02</td>\n",
       "      <td>8.320000e+02</td>\n",
       "      <td>0.000000</td>\n",
       "    </tr>\n",
       "    <tr>\n",
       "      <th>50%</th>\n",
       "      <td>32478.50000</td>\n",
       "      <td>2021.000000</td>\n",
       "      <td>1.000000</td>\n",
       "      <td>2.309000e+03</td>\n",
       "      <td>2.764500e+03</td>\n",
       "      <td>0.000000</td>\n",
       "    </tr>\n",
       "    <tr>\n",
       "      <th>75%</th>\n",
       "      <td>48717.75000</td>\n",
       "      <td>2021.000000</td>\n",
       "      <td>6.000000</td>\n",
       "      <td>6.932000e+03</td>\n",
       "      <td>8.190000e+03</td>\n",
       "      <td>0.000000</td>\n",
       "    </tr>\n",
       "    <tr>\n",
       "      <th>max</th>\n",
       "      <td>64957.00000</td>\n",
       "      <td>2021.000000</td>\n",
       "      <td>7.000000</td>\n",
       "      <td>1.082601e+06</td>\n",
       "      <td>1.144790e+06</td>\n",
       "      <td>1.000000</td>\n",
       "    </tr>\n",
       "  </tbody>\n",
       "</table>\n",
       "</div>"
      ],
      "text/plain": [
       "        Unnamed: 0          year      round_no  opening_rank  closing_rank  \\\n",
       "count  64958.00000  64958.000000  64958.000000  6.495800e+04  6.495800e+04   \n",
       "mean   32478.50000   2020.421580      2.609348  8.259642e+03  1.070497e+04   \n",
       "std    18751.90373      1.149762      2.422558  2.679448e+04  3.788101e+04   \n",
       "min        0.00000   2016.000000      1.000000  0.000000e+00  0.000000e+00   \n",
       "25%    16239.25000   2020.000000      1.000000  6.710000e+02  8.320000e+02   \n",
       "50%    32478.50000   2021.000000      1.000000  2.309000e+03  2.764500e+03   \n",
       "75%    48717.75000   2021.000000      6.000000  6.932000e+03  8.190000e+03   \n",
       "max    64957.00000   2021.000000      7.000000  1.082601e+06  1.144790e+06   \n",
       "\n",
       "       is_preparatory  \n",
       "count    64958.000000  \n",
       "mean         0.047631  \n",
       "std          0.212985  \n",
       "min          0.000000  \n",
       "25%          0.000000  \n",
       "50%          0.000000  \n",
       "75%          0.000000  \n",
       "max          1.000000  "
      ]
     },
     "execution_count": 12,
     "metadata": {},
     "output_type": "execute_result"
    }
   ],
   "source": [
    "df.describe()"
   ]
  },
  {
   "cell_type": "code",
   "execution_count": 8,
   "metadata": {
    "execution": {
     "iopub.execute_input": "2023-04-04T15:04:54.630232Z",
     "iopub.status.busy": "2023-04-04T15:04:54.629822Z",
     "iopub.status.idle": "2023-04-04T15:04:54.637568Z",
     "shell.execute_reply": "2023-04-04T15:04:54.635816Z",
     "shell.execute_reply.started": "2023-04-04T15:04:54.630200Z"
    },
    "trusted": true
   },
   "outputs": [
    {
     "data": {
      "text/plain": [
       "(64958, 13)"
      ]
     },
     "execution_count": 8,
     "metadata": {},
     "output_type": "execute_result"
    }
   ],
   "source": [
    "# Shape of the Dataset\n",
    "\n",
    "df.shape"
   ]
  },
  {
   "cell_type": "code",
   "execution_count": 9,
   "metadata": {
    "execution": {
     "iopub.execute_input": "2023-04-04T15:04:56.593330Z",
     "iopub.status.busy": "2023-04-04T15:04:56.592119Z",
     "iopub.status.idle": "2023-04-04T15:04:56.605480Z",
     "shell.execute_reply": "2023-04-04T15:04:56.603978Z",
     "shell.execute_reply.started": "2023-04-04T15:04:56.593269Z"
    },
    "trusted": true
   },
   "outputs": [
    {
     "data": {
      "text/html": [
       "<div>\n",
       "<style scoped>\n",
       "    .dataframe tbody tr th:only-of-type {\n",
       "        vertical-align: middle;\n",
       "    }\n",
       "\n",
       "    .dataframe tbody tr th {\n",
       "        vertical-align: top;\n",
       "    }\n",
       "\n",
       "    .dataframe thead th {\n",
       "        text-align: right;\n",
       "    }\n",
       "</style>\n",
       "<table border=\"1\" class=\"dataframe\">\n",
       "  <thead>\n",
       "    <tr style=\"text-align: right;\">\n",
       "      <th></th>\n",
       "      <th>0</th>\n",
       "    </tr>\n",
       "  </thead>\n",
       "  <tbody>\n",
       "    <tr>\n",
       "      <th>0</th>\n",
       "      <td>year</td>\n",
       "    </tr>\n",
       "    <tr>\n",
       "      <th>1</th>\n",
       "      <td>institute_type</td>\n",
       "    </tr>\n",
       "    <tr>\n",
       "      <th>2</th>\n",
       "      <td>round_no</td>\n",
       "    </tr>\n",
       "    <tr>\n",
       "      <th>3</th>\n",
       "      <td>quota</td>\n",
       "    </tr>\n",
       "    <tr>\n",
       "      <th>4</th>\n",
       "      <td>pool</td>\n",
       "    </tr>\n",
       "    <tr>\n",
       "      <th>5</th>\n",
       "      <td>institute_short</td>\n",
       "    </tr>\n",
       "    <tr>\n",
       "      <th>6</th>\n",
       "      <td>program_name</td>\n",
       "    </tr>\n",
       "    <tr>\n",
       "      <th>7</th>\n",
       "      <td>program_duration</td>\n",
       "    </tr>\n",
       "    <tr>\n",
       "      <th>8</th>\n",
       "      <td>degree_short</td>\n",
       "    </tr>\n",
       "    <tr>\n",
       "      <th>9</th>\n",
       "      <td>category</td>\n",
       "    </tr>\n",
       "    <tr>\n",
       "      <th>10</th>\n",
       "      <td>opening_rank</td>\n",
       "    </tr>\n",
       "    <tr>\n",
       "      <th>11</th>\n",
       "      <td>closing_rank</td>\n",
       "    </tr>\n",
       "    <tr>\n",
       "      <th>12</th>\n",
       "      <td>is_preparatory</td>\n",
       "    </tr>\n",
       "  </tbody>\n",
       "</table>\n",
       "</div>"
      ],
      "text/plain": [
       "                   0\n",
       "0               year\n",
       "1     institute_type\n",
       "2           round_no\n",
       "3              quota\n",
       "4               pool\n",
       "5    institute_short\n",
       "6       program_name\n",
       "7   program_duration\n",
       "8       degree_short\n",
       "9           category\n",
       "10      opening_rank\n",
       "11      closing_rank\n",
       "12    is_preparatory"
      ]
     },
     "execution_count": 9,
     "metadata": {},
     "output_type": "execute_result"
    }
   ],
   "source": [
    "# Columns of the Dataset\n",
    "\n",
    "Columns = pd.DataFrame(df.columns)\n",
    "Columns"
   ]
  },
  {
   "cell_type": "code",
   "execution_count": 10,
   "metadata": {
    "execution": {
     "iopub.execute_input": "2023-04-04T15:04:58.351423Z",
     "iopub.status.busy": "2023-04-04T15:04:58.350925Z",
     "iopub.status.idle": "2023-04-04T15:04:58.366908Z",
     "shell.execute_reply": "2023-04-04T15:04:58.365666Z",
     "shell.execute_reply.started": "2023-04-04T15:04:58.351376Z"
    },
    "trusted": true
   },
   "outputs": [
    {
     "data": {
      "text/html": [
       "<div>\n",
       "<style scoped>\n",
       "    .dataframe tbody tr th:only-of-type {\n",
       "        vertical-align: middle;\n",
       "    }\n",
       "\n",
       "    .dataframe tbody tr th {\n",
       "        vertical-align: top;\n",
       "    }\n",
       "\n",
       "    .dataframe thead th {\n",
       "        text-align: right;\n",
       "    }\n",
       "</style>\n",
       "<table border=\"1\" class=\"dataframe\">\n",
       "  <thead>\n",
       "    <tr style=\"text-align: right;\">\n",
       "      <th></th>\n",
       "      <th>0</th>\n",
       "    </tr>\n",
       "  </thead>\n",
       "  <tbody>\n",
       "    <tr>\n",
       "      <th>0</th>\n",
       "      <td>AI</td>\n",
       "    </tr>\n",
       "    <tr>\n",
       "      <th>1</th>\n",
       "      <td>HS</td>\n",
       "    </tr>\n",
       "    <tr>\n",
       "      <th>2</th>\n",
       "      <td>OS</td>\n",
       "    </tr>\n",
       "    <tr>\n",
       "      <th>3</th>\n",
       "      <td>AP</td>\n",
       "    </tr>\n",
       "    <tr>\n",
       "      <th>4</th>\n",
       "      <td>GO</td>\n",
       "    </tr>\n",
       "    <tr>\n",
       "      <th>5</th>\n",
       "      <td>JK</td>\n",
       "    </tr>\n",
       "    <tr>\n",
       "      <th>6</th>\n",
       "      <td>LA</td>\n",
       "    </tr>\n",
       "  </tbody>\n",
       "</table>\n",
       "</div>"
      ],
      "text/plain": [
       "    0\n",
       "0  AI\n",
       "1  HS\n",
       "2  OS\n",
       "3  AP\n",
       "4  GO\n",
       "5  JK\n",
       "6  LA"
      ]
     },
     "execution_count": 10,
     "metadata": {},
     "output_type": "execute_result"
    }
   ],
   "source": [
    "# Unique values in quota\n",
    "\n",
    "Quota = pd.DataFrame(df[\"quota\"].unique())\n",
    "Quota"
   ]
  },
  {
   "cell_type": "code",
   "execution_count": 11,
   "metadata": {
    "execution": {
     "iopub.execute_input": "2023-04-04T15:05:00.582369Z",
     "iopub.status.busy": "2023-04-04T15:05:00.581887Z",
     "iopub.status.idle": "2023-04-04T15:05:00.597600Z",
     "shell.execute_reply": "2023-04-04T15:05:00.596086Z",
     "shell.execute_reply.started": "2023-04-04T15:05:00.582331Z"
    },
    "trusted": true
   },
   "outputs": [
    {
     "data": {
      "text/html": [
       "<div>\n",
       "<style scoped>\n",
       "    .dataframe tbody tr th:only-of-type {\n",
       "        vertical-align: middle;\n",
       "    }\n",
       "\n",
       "    .dataframe tbody tr th {\n",
       "        vertical-align: top;\n",
       "    }\n",
       "\n",
       "    .dataframe thead th {\n",
       "        text-align: right;\n",
       "    }\n",
       "</style>\n",
       "<table border=\"1\" class=\"dataframe\">\n",
       "  <thead>\n",
       "    <tr style=\"text-align: right;\">\n",
       "      <th></th>\n",
       "      <th>0</th>\n",
       "    </tr>\n",
       "  </thead>\n",
       "  <tbody>\n",
       "    <tr>\n",
       "      <th>0</th>\n",
       "      <td>Gender-Neutral</td>\n",
       "    </tr>\n",
       "    <tr>\n",
       "      <th>1</th>\n",
       "      <td>Female-Only</td>\n",
       "    </tr>\n",
       "  </tbody>\n",
       "</table>\n",
       "</div>"
      ],
      "text/plain": [
       "                0\n",
       "0  Gender-Neutral\n",
       "1     Female-Only"
      ]
     },
     "execution_count": 11,
     "metadata": {},
     "output_type": "execute_result"
    }
   ],
   "source": [
    "# Unique values in pool\n",
    "\n",
    "Pool = pd.DataFrame(df[\"pool\"].unique())\n",
    "Pool"
   ]
  },
  {
   "cell_type": "code",
   "execution_count": 12,
   "metadata": {
    "execution": {
     "iopub.execute_input": "2023-04-04T15:05:02.214967Z",
     "iopub.status.busy": "2023-04-04T15:05:02.214561Z",
     "iopub.status.idle": "2023-04-04T15:05:02.234405Z",
     "shell.execute_reply": "2023-04-04T15:05:02.233321Z",
     "shell.execute_reply.started": "2023-04-04T15:05:02.214934Z"
    },
    "trusted": true
   },
   "outputs": [
    {
     "data": {
      "text/html": [
       "<div>\n",
       "<style scoped>\n",
       "    .dataframe tbody tr th:only-of-type {\n",
       "        vertical-align: middle;\n",
       "    }\n",
       "\n",
       "    .dataframe tbody tr th {\n",
       "        vertical-align: top;\n",
       "    }\n",
       "\n",
       "    .dataframe thead th {\n",
       "        text-align: right;\n",
       "    }\n",
       "</style>\n",
       "<table border=\"1\" class=\"dataframe\">\n",
       "  <thead>\n",
       "    <tr style=\"text-align: right;\">\n",
       "      <th></th>\n",
       "      <th>Institute</th>\n",
       "    </tr>\n",
       "  </thead>\n",
       "  <tbody>\n",
       "    <tr>\n",
       "      <th>0</th>\n",
       "      <td>IIT-Bombay</td>\n",
       "    </tr>\n",
       "    <tr>\n",
       "      <th>1</th>\n",
       "      <td>IIT-Delhi</td>\n",
       "    </tr>\n",
       "    <tr>\n",
       "      <th>2</th>\n",
       "      <td>IIT-Kharagpur</td>\n",
       "    </tr>\n",
       "    <tr>\n",
       "      <th>3</th>\n",
       "      <td>IIT-Kanpur</td>\n",
       "    </tr>\n",
       "    <tr>\n",
       "      <th>4</th>\n",
       "      <td>IIT-Madras</td>\n",
       "    </tr>\n",
       "    <tr>\n",
       "      <th>5</th>\n",
       "      <td>IIT-Roorkee</td>\n",
       "    </tr>\n",
       "    <tr>\n",
       "      <th>6</th>\n",
       "      <td>IIT-Guwahati</td>\n",
       "    </tr>\n",
       "    <tr>\n",
       "      <th>7</th>\n",
       "      <td>IIT-Indore</td>\n",
       "    </tr>\n",
       "    <tr>\n",
       "      <th>8</th>\n",
       "      <td>IIT-Hyderabad</td>\n",
       "    </tr>\n",
       "    <tr>\n",
       "      <th>9</th>\n",
       "      <td>IIT-(BHU) Varanasi</td>\n",
       "    </tr>\n",
       "    <tr>\n",
       "      <th>10</th>\n",
       "      <td>IIT-Patna</td>\n",
       "    </tr>\n",
       "    <tr>\n",
       "      <th>11</th>\n",
       "      <td>IIT-(ISM) Dhanbad</td>\n",
       "    </tr>\n",
       "    <tr>\n",
       "      <th>12</th>\n",
       "      <td>IIT-Bhubaneswar</td>\n",
       "    </tr>\n",
       "    <tr>\n",
       "      <th>13</th>\n",
       "      <td>IIT-Mandi</td>\n",
       "    </tr>\n",
       "    <tr>\n",
       "      <th>14</th>\n",
       "      <td>IIT-Gandhinagar</td>\n",
       "    </tr>\n",
       "    <tr>\n",
       "      <th>15</th>\n",
       "      <td>IIT-Ropar</td>\n",
       "    </tr>\n",
       "    <tr>\n",
       "      <th>16</th>\n",
       "      <td>IIT-Jodhpur</td>\n",
       "    </tr>\n",
       "    <tr>\n",
       "      <th>17</th>\n",
       "      <td>IIT-Tirupati</td>\n",
       "    </tr>\n",
       "    <tr>\n",
       "      <th>18</th>\n",
       "      <td>IIT-Bhilai</td>\n",
       "    </tr>\n",
       "    <tr>\n",
       "      <th>19</th>\n",
       "      <td>IIT-Dharwad</td>\n",
       "    </tr>\n",
       "    <tr>\n",
       "      <th>20</th>\n",
       "      <td>IIT-Goa</td>\n",
       "    </tr>\n",
       "    <tr>\n",
       "      <th>21</th>\n",
       "      <td>IIT-Jammu</td>\n",
       "    </tr>\n",
       "    <tr>\n",
       "      <th>22</th>\n",
       "      <td>IIT-Palakkad</td>\n",
       "    </tr>\n",
       "    <tr>\n",
       "      <th>23</th>\n",
       "      <td>NIT-Warangal</td>\n",
       "    </tr>\n",
       "    <tr>\n",
       "      <th>24</th>\n",
       "      <td>NIT-Tiruchirappalli</td>\n",
       "    </tr>\n",
       "    <tr>\n",
       "      <th>25</th>\n",
       "      <td>NIT-Uttarakhand</td>\n",
       "    </tr>\n",
       "    <tr>\n",
       "      <th>26</th>\n",
       "      <td>NIT-Surat</td>\n",
       "    </tr>\n",
       "    <tr>\n",
       "      <th>27</th>\n",
       "      <td>NIT-Nagpur</td>\n",
       "    </tr>\n",
       "    <tr>\n",
       "      <th>28</th>\n",
       "      <td>NIT-Andhra-Pradesh</td>\n",
       "    </tr>\n",
       "    <tr>\n",
       "      <th>29</th>\n",
       "      <td>NIT-Jalandhar</td>\n",
       "    </tr>\n",
       "    <tr>\n",
       "      <th>30</th>\n",
       "      <td>NIT-Jaipur</td>\n",
       "    </tr>\n",
       "    <tr>\n",
       "      <th>31</th>\n",
       "      <td>NIT-Bhopal</td>\n",
       "    </tr>\n",
       "    <tr>\n",
       "      <th>32</th>\n",
       "      <td>NIT-Allahabad</td>\n",
       "    </tr>\n",
       "    <tr>\n",
       "      <th>33</th>\n",
       "      <td>NIT-Calicut</td>\n",
       "    </tr>\n",
       "    <tr>\n",
       "      <th>34</th>\n",
       "      <td>NIT-Agartala</td>\n",
       "    </tr>\n",
       "    <tr>\n",
       "      <th>35</th>\n",
       "      <td>NIT-Delhi</td>\n",
       "    </tr>\n",
       "    <tr>\n",
       "      <th>36</th>\n",
       "      <td>NIT-Durgapur</td>\n",
       "    </tr>\n",
       "    <tr>\n",
       "      <th>37</th>\n",
       "      <td>NIT-Goa</td>\n",
       "    </tr>\n",
       "    <tr>\n",
       "      <th>38</th>\n",
       "      <td>NIT-Hamirpur</td>\n",
       "    </tr>\n",
       "    <tr>\n",
       "      <th>39</th>\n",
       "      <td>NIT-Meghalaya</td>\n",
       "    </tr>\n",
       "    <tr>\n",
       "      <th>40</th>\n",
       "      <td>NIT-Karnataka-Surathkal</td>\n",
       "    </tr>\n",
       "    <tr>\n",
       "      <th>41</th>\n",
       "      <td>NIT-Patna</td>\n",
       "    </tr>\n",
       "    <tr>\n",
       "      <th>42</th>\n",
       "      <td>NIT-Nagaland</td>\n",
       "    </tr>\n",
       "    <tr>\n",
       "      <th>43</th>\n",
       "      <td>NIT-Puducherry</td>\n",
       "    </tr>\n",
       "    <tr>\n",
       "      <th>44</th>\n",
       "      <td>NIT-Raipur</td>\n",
       "    </tr>\n",
       "    <tr>\n",
       "      <th>45</th>\n",
       "      <td>NIT-Sikkim</td>\n",
       "    </tr>\n",
       "    <tr>\n",
       "      <th>46</th>\n",
       "      <td>NIT-Arunachal-Pradesh</td>\n",
       "    </tr>\n",
       "    <tr>\n",
       "      <th>47</th>\n",
       "      <td>NIT-Jamshedpur</td>\n",
       "    </tr>\n",
       "    <tr>\n",
       "      <th>48</th>\n",
       "      <td>NIT-Kurukshetra</td>\n",
       "    </tr>\n",
       "    <tr>\n",
       "      <th>49</th>\n",
       "      <td>NIT-Manipur</td>\n",
       "    </tr>\n",
       "    <tr>\n",
       "      <th>50</th>\n",
       "      <td>NIT-Mizoram</td>\n",
       "    </tr>\n",
       "    <tr>\n",
       "      <th>51</th>\n",
       "      <td>NIT-Rourkela</td>\n",
       "    </tr>\n",
       "    <tr>\n",
       "      <th>52</th>\n",
       "      <td>NIT-Silchar</td>\n",
       "    </tr>\n",
       "    <tr>\n",
       "      <th>53</th>\n",
       "      <td>NIT-Srinagar</td>\n",
       "    </tr>\n",
       "  </tbody>\n",
       "</table>\n",
       "</div>"
      ],
      "text/plain": [
       "                  Institute\n",
       "0                IIT-Bombay\n",
       "1                 IIT-Delhi\n",
       "2             IIT-Kharagpur\n",
       "3                IIT-Kanpur\n",
       "4                IIT-Madras\n",
       "5               IIT-Roorkee\n",
       "6              IIT-Guwahati\n",
       "7                IIT-Indore\n",
       "8             IIT-Hyderabad\n",
       "9        IIT-(BHU) Varanasi\n",
       "10                IIT-Patna\n",
       "11        IIT-(ISM) Dhanbad\n",
       "12          IIT-Bhubaneswar\n",
       "13                IIT-Mandi\n",
       "14          IIT-Gandhinagar\n",
       "15                IIT-Ropar\n",
       "16              IIT-Jodhpur\n",
       "17             IIT-Tirupati\n",
       "18               IIT-Bhilai\n",
       "19              IIT-Dharwad\n",
       "20                  IIT-Goa\n",
       "21                IIT-Jammu\n",
       "22             IIT-Palakkad\n",
       "23             NIT-Warangal\n",
       "24      NIT-Tiruchirappalli\n",
       "25          NIT-Uttarakhand\n",
       "26                NIT-Surat\n",
       "27               NIT-Nagpur\n",
       "28       NIT-Andhra-Pradesh\n",
       "29            NIT-Jalandhar\n",
       "30               NIT-Jaipur\n",
       "31               NIT-Bhopal\n",
       "32            NIT-Allahabad\n",
       "33              NIT-Calicut\n",
       "34             NIT-Agartala\n",
       "35                NIT-Delhi\n",
       "36             NIT-Durgapur\n",
       "37                  NIT-Goa\n",
       "38             NIT-Hamirpur\n",
       "39            NIT-Meghalaya\n",
       "40  NIT-Karnataka-Surathkal\n",
       "41                NIT-Patna\n",
       "42             NIT-Nagaland\n",
       "43           NIT-Puducherry\n",
       "44               NIT-Raipur\n",
       "45               NIT-Sikkim\n",
       "46    NIT-Arunachal-Pradesh\n",
       "47           NIT-Jamshedpur\n",
       "48          NIT-Kurukshetra\n",
       "49              NIT-Manipur\n",
       "50              NIT-Mizoram\n",
       "51             NIT-Rourkela\n",
       "52              NIT-Silchar\n",
       "53             NIT-Srinagar"
      ]
     },
     "execution_count": 12,
     "metadata": {},
     "output_type": "execute_result"
    }
   ],
   "source": [
    "# Various institutions \n",
    "\n",
    "Institutes = pd.DataFrame(df[\"institute_short\"].unique(), columns = {'Institute':0})\n",
    "Institutes "
   ]
  },
  {
   "cell_type": "code",
   "execution_count": 11,
   "metadata": {
    "execution": {
     "iopub.execute_input": "2023-04-04T15:05:03.553389Z",
     "iopub.status.busy": "2023-04-04T15:05:03.552216Z",
     "iopub.status.idle": "2023-04-04T15:05:03.575151Z",
     "shell.execute_reply": "2023-04-04T15:05:03.573645Z",
     "shell.execute_reply.started": "2023-04-04T15:05:03.553340Z"
    },
    "trusted": true
   },
   "outputs": [
    {
     "data": {
      "text/html": [
       "<div>\n",
       "<style scoped>\n",
       "    .dataframe tbody tr th:only-of-type {\n",
       "        vertical-align: middle;\n",
       "    }\n",
       "\n",
       "    .dataframe tbody tr th {\n",
       "        vertical-align: top;\n",
       "    }\n",
       "\n",
       "    .dataframe thead th {\n",
       "        text-align: right;\n",
       "    }\n",
       "</style>\n",
       "<table border=\"1\" class=\"dataframe\">\n",
       "  <thead>\n",
       "    <tr style=\"text-align: right;\">\n",
       "      <th></th>\n",
       "      <th>program</th>\n",
       "    </tr>\n",
       "  </thead>\n",
       "  <tbody>\n",
       "    <tr>\n",
       "      <th>0</th>\n",
       "      <td>Aerospace Engineering</td>\n",
       "    </tr>\n",
       "    <tr>\n",
       "      <th>1</th>\n",
       "      <td>Chemical Engineering</td>\n",
       "    </tr>\n",
       "    <tr>\n",
       "      <th>2</th>\n",
       "      <td>Chemistry</td>\n",
       "    </tr>\n",
       "    <tr>\n",
       "      <th>3</th>\n",
       "      <td>Civil Engineering</td>\n",
       "    </tr>\n",
       "    <tr>\n",
       "      <th>4</th>\n",
       "      <td>Computer Science and Engineering</td>\n",
       "    </tr>\n",
       "    <tr>\n",
       "      <th>...</th>\n",
       "      <td>...</td>\n",
       "    </tr>\n",
       "    <tr>\n",
       "      <th>125</th>\n",
       "      <td>Food Process Engineering</td>\n",
       "    </tr>\n",
       "    <tr>\n",
       "      <th>126</th>\n",
       "      <td>Ceramic Engineering and M.Tech Industrial Ceramic</td>\n",
       "    </tr>\n",
       "    <tr>\n",
       "      <th>127</th>\n",
       "      <td>Life Science</td>\n",
       "    </tr>\n",
       "    <tr>\n",
       "      <th>128</th>\n",
       "      <td>Mathematics and Data Science</td>\n",
       "    </tr>\n",
       "    <tr>\n",
       "      <th>129</th>\n",
       "      <td>Computational Mathematics</td>\n",
       "    </tr>\n",
       "  </tbody>\n",
       "</table>\n",
       "<p>130 rows × 1 columns</p>\n",
       "</div>"
      ],
      "text/plain": [
       "                                               program\n",
       "0                                Aerospace Engineering\n",
       "1                                 Chemical Engineering\n",
       "2                                            Chemistry\n",
       "3                                    Civil Engineering\n",
       "4                     Computer Science and Engineering\n",
       "..                                                 ...\n",
       "125                           Food Process Engineering\n",
       "126  Ceramic Engineering and M.Tech Industrial Ceramic\n",
       "127                                       Life Science\n",
       "128                       Mathematics and Data Science\n",
       "129                          Computational Mathematics\n",
       "\n",
       "[130 rows x 1 columns]"
      ]
     },
     "execution_count": 11,
     "metadata": {},
     "output_type": "execute_result"
    }
   ],
   "source": [
    "# Various types of programs\n",
    "\n",
    "Programs = pd.DataFrame(df[\"program_name\"].unique(), columns = {'program':0})\n",
    "Programs"
   ]
  },
  {
   "cell_type": "code",
   "execution_count": 12,
   "metadata": {
    "execution": {
     "iopub.execute_input": "2023-04-04T15:05:04.823624Z",
     "iopub.status.busy": "2023-04-04T15:05:04.823166Z",
     "iopub.status.idle": "2023-04-04T15:05:04.841044Z",
     "shell.execute_reply": "2023-04-04T15:05:04.839797Z",
     "shell.execute_reply.started": "2023-04-04T15:05:04.823587Z"
    },
    "trusted": true
   },
   "outputs": [
    {
     "data": {
      "text/html": [
       "<div>\n",
       "<style scoped>\n",
       "    .dataframe tbody tr th:only-of-type {\n",
       "        vertical-align: middle;\n",
       "    }\n",
       "\n",
       "    .dataframe tbody tr th {\n",
       "        vertical-align: top;\n",
       "    }\n",
       "\n",
       "    .dataframe thead th {\n",
       "        text-align: right;\n",
       "    }\n",
       "</style>\n",
       "<table border=\"1\" class=\"dataframe\">\n",
       "  <thead>\n",
       "    <tr style=\"text-align: right;\">\n",
       "      <th></th>\n",
       "      <th>Degree</th>\n",
       "    </tr>\n",
       "  </thead>\n",
       "  <tbody>\n",
       "    <tr>\n",
       "      <th>0</th>\n",
       "      <td>B.Tech</td>\n",
       "    </tr>\n",
       "    <tr>\n",
       "      <th>1</th>\n",
       "      <td>BSc</td>\n",
       "    </tr>\n",
       "    <tr>\n",
       "      <th>2</th>\n",
       "      <td>B.Tech + M.Tech (IDD)</td>\n",
       "    </tr>\n",
       "    <tr>\n",
       "      <th>3</th>\n",
       "      <td>Int MSc.</td>\n",
       "    </tr>\n",
       "    <tr>\n",
       "      <th>4</th>\n",
       "      <td>B.Arch</td>\n",
       "    </tr>\n",
       "    <tr>\n",
       "      <th>5</th>\n",
       "      <td>Int M.Tech</td>\n",
       "    </tr>\n",
       "    <tr>\n",
       "      <th>6</th>\n",
       "      <td>B.Pharm</td>\n",
       "    </tr>\n",
       "    <tr>\n",
       "      <th>7</th>\n",
       "      <td>B.Pharm + M.Pharm</td>\n",
       "    </tr>\n",
       "    <tr>\n",
       "      <th>8</th>\n",
       "      <td>BS + MS (IDD)</td>\n",
       "    </tr>\n",
       "    <tr>\n",
       "      <th>9</th>\n",
       "      <td>B.Plan</td>\n",
       "    </tr>\n",
       "    <tr>\n",
       "      <th>10</th>\n",
       "      <td>Btech + M.Tech (IDD)</td>\n",
       "    </tr>\n",
       "    <tr>\n",
       "      <th>11</th>\n",
       "      <td>BSc + MSc (IDD)</td>\n",
       "    </tr>\n",
       "  </tbody>\n",
       "</table>\n",
       "</div>"
      ],
      "text/plain": [
       "                   Degree\n",
       "0                  B.Tech\n",
       "1                     BSc\n",
       "2   B.Tech + M.Tech (IDD)\n",
       "3                Int MSc.\n",
       "4                  B.Arch\n",
       "5              Int M.Tech\n",
       "6                 B.Pharm\n",
       "7       B.Pharm + M.Pharm\n",
       "8           BS + MS (IDD)\n",
       "9                  B.Plan\n",
       "10   Btech + M.Tech (IDD)\n",
       "11        BSc + MSc (IDD)"
      ]
     },
     "execution_count": 12,
     "metadata": {},
     "output_type": "execute_result"
    }
   ],
   "source": [
    "# Various degrees\n",
    "\n",
    "Degree = pd.DataFrame(df[\"degree_short\"].unique(), columns = {'Degree':0})\n",
    "Degree"
   ]
  },
  {
   "cell_type": "code",
   "execution_count": 16,
   "metadata": {
    "execution": {
     "iopub.execute_input": "2023-04-04T15:05:06.141990Z",
     "iopub.status.busy": "2023-04-04T15:05:06.140930Z",
     "iopub.status.idle": "2023-04-04T15:05:06.154652Z",
     "shell.execute_reply": "2023-04-04T15:05:06.153218Z",
     "shell.execute_reply.started": "2023-04-04T15:05:06.141943Z"
    },
    "trusted": true
   },
   "outputs": [],
   "source": [
    "# Correcting the values\n",
    "\n",
    "df.loc[df[\"degree_short\"] == \"Int Msc.\", \"degree_short\"] = \"Int MSc.\"\n"
   ]
  },
  {
   "cell_type": "code",
   "execution_count": 17,
   "metadata": {
    "execution": {
     "iopub.execute_input": "2023-04-04T15:05:07.483097Z",
     "iopub.status.busy": "2023-04-04T15:05:07.482652Z",
     "iopub.status.idle": "2023-04-04T15:05:07.496223Z",
     "shell.execute_reply": "2023-04-04T15:05:07.494405Z",
     "shell.execute_reply.started": "2023-04-04T15:05:07.483060Z"
    },
    "trusted": true
   },
   "outputs": [
    {
     "data": {
      "text/plain": [
       "12"
      ]
     },
     "execution_count": 17,
     "metadata": {},
     "output_type": "execute_result"
    }
   ],
   "source": [
    "df[\"degree_short\"].nunique()"
   ]
  },
  {
   "cell_type": "code",
   "execution_count": 14,
   "metadata": {},
   "outputs": [
    {
     "data": {
      "text/html": [
       "<div>\n",
       "<style scoped>\n",
       "    .dataframe tbody tr th:only-of-type {\n",
       "        vertical-align: middle;\n",
       "    }\n",
       "\n",
       "    .dataframe tbody tr th {\n",
       "        vertical-align: top;\n",
       "    }\n",
       "\n",
       "    .dataframe thead th {\n",
       "        text-align: right;\n",
       "    }\n",
       "</style>\n",
       "<table border=\"1\" class=\"dataframe\">\n",
       "  <thead>\n",
       "    <tr style=\"text-align: right;\">\n",
       "      <th></th>\n",
       "      <th>0</th>\n",
       "    </tr>\n",
       "  </thead>\n",
       "  <tbody>\n",
       "    <tr>\n",
       "      <th>0</th>\n",
       "      <td>6</td>\n",
       "    </tr>\n",
       "    <tr>\n",
       "      <th>1</th>\n",
       "      <td>7</td>\n",
       "    </tr>\n",
       "    <tr>\n",
       "      <th>2</th>\n",
       "      <td>1</td>\n",
       "    </tr>\n",
       "    <tr>\n",
       "      <th>3</th>\n",
       "      <td>2</td>\n",
       "    </tr>\n",
       "  </tbody>\n",
       "</table>\n",
       "</div>"
      ],
      "text/plain": [
       "   0\n",
       "0  6\n",
       "1  7\n",
       "2  1\n",
       "3  2"
      ]
     },
     "execution_count": 14,
     "metadata": {},
     "output_type": "execute_result"
    }
   ],
   "source": [
    "Round = pd.DataFrame(df[\"round_no\"].unique())\n",
    "Round"
   ]
  },
  {
   "cell_type": "code",
   "execution_count": 13,
   "metadata": {
    "execution": {
     "iopub.execute_input": "2023-04-04T15:05:08.714979Z",
     "iopub.status.busy": "2023-04-04T15:05:08.713882Z",
     "iopub.status.idle": "2023-04-04T15:05:08.733428Z",
     "shell.execute_reply": "2023-04-04T15:05:08.731492Z",
     "shell.execute_reply.started": "2023-04-04T15:05:08.714905Z"
    },
    "trusted": true
   },
   "outputs": [
    {
     "data": {
      "text/html": [
       "<div>\n",
       "<style scoped>\n",
       "    .dataframe tbody tr th:only-of-type {\n",
       "        vertical-align: middle;\n",
       "    }\n",
       "\n",
       "    .dataframe tbody tr th {\n",
       "        vertical-align: top;\n",
       "    }\n",
       "\n",
       "    .dataframe thead th {\n",
       "        text-align: right;\n",
       "    }\n",
       "</style>\n",
       "<table border=\"1\" class=\"dataframe\">\n",
       "  <thead>\n",
       "    <tr style=\"text-align: right;\">\n",
       "      <th></th>\n",
       "      <th>0</th>\n",
       "    </tr>\n",
       "  </thead>\n",
       "  <tbody>\n",
       "    <tr>\n",
       "      <th>0</th>\n",
       "      <td>GEN</td>\n",
       "    </tr>\n",
       "    <tr>\n",
       "      <th>1</th>\n",
       "      <td>OBC-NCL</td>\n",
       "    </tr>\n",
       "    <tr>\n",
       "      <th>2</th>\n",
       "      <td>SC</td>\n",
       "    </tr>\n",
       "    <tr>\n",
       "      <th>3</th>\n",
       "      <td>ST</td>\n",
       "    </tr>\n",
       "    <tr>\n",
       "      <th>4</th>\n",
       "      <td>GEN-PWD</td>\n",
       "    </tr>\n",
       "    <tr>\n",
       "      <th>5</th>\n",
       "      <td>OBC-NCL-PWD</td>\n",
       "    </tr>\n",
       "    <tr>\n",
       "      <th>6</th>\n",
       "      <td>SC-PWD</td>\n",
       "    </tr>\n",
       "    <tr>\n",
       "      <th>7</th>\n",
       "      <td>ST-PWD</td>\n",
       "    </tr>\n",
       "    <tr>\n",
       "      <th>8</th>\n",
       "      <td>GEN-EWS</td>\n",
       "    </tr>\n",
       "    <tr>\n",
       "      <th>9</th>\n",
       "      <td>GEN-EWS-PWD</td>\n",
       "    </tr>\n",
       "  </tbody>\n",
       "</table>\n",
       "</div>"
      ],
      "text/plain": [
       "             0\n",
       "0          GEN\n",
       "1      OBC-NCL\n",
       "2           SC\n",
       "3           ST\n",
       "4      GEN-PWD\n",
       "5  OBC-NCL-PWD\n",
       "6       SC-PWD\n",
       "7       ST-PWD\n",
       "8      GEN-EWS\n",
       "9  GEN-EWS-PWD"
      ]
     },
     "execution_count": 13,
     "metadata": {},
     "output_type": "execute_result"
    }
   ],
   "source": [
    "# Unique values in category\n",
    "\n",
    "Category = pd.DataFrame(df[\"category\"].unique())\n",
    "Category"
   ]
  },
  {
   "cell_type": "code",
   "execution_count": 19,
   "metadata": {
    "execution": {
     "iopub.execute_input": "2023-04-04T15:05:09.960056Z",
     "iopub.status.busy": "2023-04-04T15:05:09.959374Z",
     "iopub.status.idle": "2023-04-04T15:05:11.155940Z",
     "shell.execute_reply": "2023-04-04T15:05:11.154267Z",
     "shell.execute_reply.started": "2023-04-04T15:05:09.959999Z"
    },
    "trusted": true
   },
   "outputs": [
    {
     "data": {
      "text/plain": [
       "<Axes: >"
      ]
     },
     "execution_count": 19,
     "metadata": {},
     "output_type": "execute_result"
    },
    {
     "data": {
      "image/png": "[encoded data removed]",
      "text/plain": [
       "<Figure size 640x480 with 2 Axes>"
      ]
     },
     "metadata": {},
     "output_type": "display_data"
    }
   ],
   "source": [
    "# Checking the null values in dataset\n",
    "\n",
    "sns.heatmap(df.isnull(),yticklabels=False,cmap='viridis', alpha = 0.5)"
   ]
  },
  {
   "cell_type": "code",
   "execution_count": 18,
   "metadata": {
    "execution": {
     "iopub.execute_input": "2023-04-04T15:05:12.002637Z",
     "iopub.status.busy": "2023-04-04T15:05:12.002163Z",
     "iopub.status.idle": "2023-04-04T15:05:12.309677Z",
     "shell.execute_reply": "2023-04-04T15:05:12.308494Z",
     "shell.execute_reply.started": "2023-04-04T15:05:12.002600Z"
    },
    "trusted": true
   },
   "outputs": [],
   "source": [
    "# Creating new CSV file After correcting the Dataset\n",
    "\n",
    "df.to_csv(\"iit-and-nit-colleges-admission-criteria-version-2.csv\")"
   ]
  },
  {
   "cell_type": "markdown",
   "metadata": {},
   "source": [
    "***"
   ]
  },
  {
   "cell_type": "markdown",
   "metadata": {},
   "source": [
    "# **<span style=\"color:#ff3385;\">🥽 Let's see what all we can explore in this dataset</span>**\n",
    "\n",
    "> 1. What does reservation say about admit to these colleges?\n",
    "\n",
    "> 2. What is the most optimum Opening and closing rank in overall years?\n",
    "\n",
    "> 3. Which universities/colleges provide preparatory courses?\n",
    "\n",
    "> 4. Which category gets most preference for prepratory courses? \n",
    "\n",
    "> 5. Institutes and degrees they provide?\n",
    "\n",
    "> 6. Which institute who provide 4 year and 5 year courses?"
   ]
  },
  {
   "cell_type": "code",
   "execution_count": 20,
   "metadata": {
    "execution": {
     "iopub.execute_input": "2023-04-04T15:05:21.466044Z",
     "iopub.status.busy": "2023-04-04T15:05:21.465618Z",
     "iopub.status.idle": "2023-04-04T15:05:22.397704Z",
     "shell.execute_reply": "2023-04-04T15:05:22.396673Z",
     "shell.execute_reply.started": "2023-04-04T15:05:21.466008Z"
    },
    "trusted": true
   },
   "outputs": [
    {
     "data": {
      "image/png": "[encoded data removed]",
      "text/plain": [
       "<Figure size 1500x800 with 1 Axes>"
      ]
     },
     "metadata": {},
     "output_type": "display_data"
    }
   ],
   "source": [
    "#Let's check out All Institutes in the dataset\n",
    "\n",
    "plt.figure(figsize=(15,8))\n",
    "institutes = df.groupby(['institute_short']).size().plot(kind = 'bar', color = \"#5cd65c\", alpha = 0.5)\n",
    "plt.show()"
   ]
  },
  {
   "cell_type": "code",
   "execution_count": 31,
   "metadata": {
    "execution": {
     "iopub.execute_input": "2023-04-04T15:05:24.098943Z",
     "iopub.status.busy": "2023-04-04T15:05:24.098322Z",
     "iopub.status.idle": "2023-04-04T15:05:24.349351Z",
     "shell.execute_reply": "2023-04-04T15:05:24.348163Z",
     "shell.execute_reply.started": "2023-04-04T15:05:24.098908Z"
    },
    "trusted": true
   },
   "outputs": [
    {
     "data": {
      "text/plain": [
       "Text(0, 0.5, 'students')"
      ]
     },
     "execution_count": 31,
     "metadata": {},
     "output_type": "execute_result"
    },
    {
     "data": {
      "image/png": "[encoded data removed]",
      "text/plain": [
       "<Figure size 1500x800 with 1 Axes>"
      ]
     },
     "metadata": {},
     "output_type": "display_data"
    }
   ],
   "source": [
    "# Students admitted per year\n",
    "\n",
    "plt.figure(figsize=(15,8))\n",
    "plt.title('student per year')\n",
    "sns.lineplot(x=['2021','2020','2019','2018','2017','2016'],y=df['year'].value_counts(), color = \"#ff1a1a\", alpha = 0.5)\n",
    "plt.ylabel('students')"
   ]
  },
  {
   "cell_type": "code",
   "execution_count": null,
   "metadata": {},
   "outputs": [],
   "source": []
  },
  {
   "cell_type": "markdown",
   "metadata": {},
   "source": [
    "## **<span style=\"color:#ff3385;\">1️⃣ What does reservation say about admit to these colleges?</span>**"
   ]
  },
  {
   "cell_type": "code",
   "execution_count": 23,
   "metadata": {
    "execution": {
     "iopub.execute_input": "2023-04-04T15:05:41.073157Z",
     "iopub.status.busy": "2023-04-04T15:05:41.072762Z",
     "iopub.status.idle": "2023-04-04T15:05:41.084841Z",
     "shell.execute_reply": "2023-04-04T15:05:41.083923Z",
     "shell.execute_reply.started": "2023-04-04T15:05:41.073125Z"
    },
    "trusted": true
   },
   "outputs": [
    {
     "data": {
      "text/plain": [
       "AI    32905\n",
       "OS    16962\n",
       "HS    14291\n",
       "JK      393\n",
       "GO      275\n",
       "AP       72\n",
       "LA       60\n",
       "Name: quota, dtype: int64"
      ]
     },
     "execution_count": 23,
     "metadata": {},
     "output_type": "execute_result"
    }
   ],
   "source": [
    "max_quota = df['quota'].value_counts()\n",
    "max_quota"
   ]
  },
  {
   "cell_type": "markdown",
   "metadata": {},
   "source": [
    "*Since, AI (all India) reservation has max counts - it can be a factor contributing to admissions.*"
   ]
  },
  {
   "cell_type": "code",
   "execution_count": 24,
   "metadata": {
    "execution": {
     "iopub.execute_input": "2023-04-04T15:05:47.566047Z",
     "iopub.status.busy": "2023-04-04T15:05:47.565606Z",
     "iopub.status.idle": "2023-04-04T15:05:47.777037Z",
     "shell.execute_reply": "2023-04-04T15:05:47.775349Z",
     "shell.execute_reply.started": "2023-04-04T15:05:47.566004Z"
    },
    "trusted": true
   },
   "outputs": [
    {
     "data": {
      "image/png": "[encoded data removed]",
      "text/plain": [
       "<Figure size 1500x800 with 1 Axes>"
      ]
     },
     "metadata": {},
     "output_type": "display_data"
    }
   ],
   "source": [
    "plt.figure(figsize=(15,8))\n",
    "plt.plot(max_quota, color = \"#2e2eb8\", alpha = 0.5)\n",
    "plt.show()"
   ]
  },
  {
   "cell_type": "code",
   "execution_count": 25,
   "metadata": {
    "execution": {
     "iopub.execute_input": "2023-04-04T15:05:54.747226Z",
     "iopub.status.busy": "2023-04-04T15:05:54.746798Z",
     "iopub.status.idle": "2023-04-04T15:05:55.103663Z",
     "shell.execute_reply": "2023-04-04T15:05:55.101562Z",
     "shell.execute_reply.started": "2023-04-04T15:05:54.747194Z"
    },
    "trusted": true
   },
   "outputs": [
    {
     "data": {
      "image/png": "[encoded data removed]",
      "text/plain": [
       "<Figure size 1500x800 with 1 Axes>"
      ]
     },
     "metadata": {},
     "output_type": "display_data"
    }
   ],
   "source": [
    "#Yearly quota study\n",
    "\n",
    "plt.figure(figsize=(15,8))\n",
    "year_club = df.groupby(['year', 'quota']).size().plot(kind = 'bar', color = \"#000000\", alpha = 0.5)"
   ]
  },
  {
   "cell_type": "markdown",
   "metadata": {},
   "source": [
    "**<span style=\"color:#006600;\">From the above plot, we see that AI - all India quota covers maximum number of students followed by OS - Other State and HS - Home State.\n",
    "While the second plot depicts that AI(All India) quota played an important role from 2016 to 2018.</span>**"
   ]
  },
  {
   "cell_type": "markdown",
   "metadata": {},
   "source": [
    "## **<span style=\"color:#ff3385;\">2️⃣ What is the most optimum Opening and closing rank in overall years??</span>**"
   ]
  },
  {
   "attachments": {},
   "cell_type": "markdown",
   "metadata": {},
   "source": [
    "------------------------------------------------------------------- **Opening Ranks** ---------------------------------------------------------------------------"
   ]
  },
  {
   "cell_type": "code",
   "execution_count": 26,
   "metadata": {
    "execution": {
     "iopub.execute_input": "2023-04-04T15:06:08.542901Z",
     "iopub.status.busy": "2023-04-04T15:06:08.542489Z",
     "iopub.status.idle": "2023-04-04T15:06:08.550366Z",
     "shell.execute_reply": "2023-04-04T15:06:08.548940Z",
     "shell.execute_reply.started": "2023-04-04T15:06:08.542869Z"
    },
    "trusted": true
   },
   "outputs": [
    {
     "name": "stdout",
     "output_type": "stream",
     "text": [
      "Average opening rank over the years has been -  8260\n"
     ]
    }
   ],
   "source": [
    "avg_opening_rank = df['opening_rank'].mean(axis = 0)\n",
    "avg_open_rank = round(avg_opening_rank)\n",
    "print(\"Average opening rank over the years has been - \", avg_open_rank)"
   ]
  },
  {
   "cell_type": "code",
   "execution_count": 27,
   "metadata": {
    "execution": {
     "iopub.execute_input": "2023-04-04T15:06:10.271870Z",
     "iopub.status.busy": "2023-04-04T15:06:10.271440Z",
     "iopub.status.idle": "2023-04-04T15:06:10.279284Z",
     "shell.execute_reply": "2023-04-04T15:06:10.277766Z",
     "shell.execute_reply.started": "2023-04-04T15:06:10.271833Z"
    },
    "trusted": true
   },
   "outputs": [
    {
     "name": "stdout",
     "output_type": "stream",
     "text": [
      "Max opening rank over the years has been -  1082601\n"
     ]
    }
   ],
   "source": [
    "max_opening_rank = df['opening_rank'].max(axis = 0)\n",
    "max_open_rank = round(max_opening_rank)\n",
    "print(\"Max opening rank over the years has been - \", max_open_rank)"
   ]
  },
  {
   "cell_type": "code",
   "execution_count": 28,
   "metadata": {
    "execution": {
     "iopub.execute_input": "2023-04-04T15:06:12.500750Z",
     "iopub.status.busy": "2023-04-04T15:06:12.499981Z",
     "iopub.status.idle": "2023-04-04T15:06:12.507143Z",
     "shell.execute_reply": "2023-04-04T15:06:12.505869Z",
     "shell.execute_reply.started": "2023-04-04T15:06:12.500707Z"
    },
    "trusted": true
   },
   "outputs": [
    {
     "name": "stdout",
     "output_type": "stream",
     "text": [
      "Min opening rank over the years has been -  0\n"
     ]
    }
   ],
   "source": [
    "min_opening_rank = df['opening_rank'].min(axis = 0)\n",
    "min_open_rank = round(min_opening_rank)\n",
    "print(\"Min opening rank over the years has been - \", min_open_rank)"
   ]
  },
  {
   "attachments": {},
   "cell_type": "markdown",
   "metadata": {},
   "source": [
    "-------------------------------------------------------------------- **Closing Ranks** ---------------------------------------------------------------------------"
   ]
  },
  {
   "cell_type": "code",
   "execution_count": 29,
   "metadata": {
    "execution": {
     "iopub.execute_input": "2023-04-04T15:06:21.049606Z",
     "iopub.status.busy": "2023-04-04T15:06:21.049150Z",
     "iopub.status.idle": "2023-04-04T15:06:21.057268Z",
     "shell.execute_reply": "2023-04-04T15:06:21.055937Z",
     "shell.execute_reply.started": "2023-04-04T15:06:21.049569Z"
    },
    "trusted": true
   },
   "outputs": [
    {
     "name": "stdout",
     "output_type": "stream",
     "text": [
      "Average closing rank over the years has been -  10705\n"
     ]
    }
   ],
   "source": [
    "avg_closing_rank = round(df['closing_rank'].mean(axis = 0))\n",
    "print(\"Average closing rank over the years has been - \", avg_closing_rank)"
   ]
  },
  {
   "cell_type": "code",
   "execution_count": 30,
   "metadata": {
    "execution": {
     "iopub.execute_input": "2023-04-04T15:06:22.102417Z",
     "iopub.status.busy": "2023-04-04T15:06:22.101937Z",
     "iopub.status.idle": "2023-04-04T15:06:22.109831Z",
     "shell.execute_reply": "2023-04-04T15:06:22.108507Z",
     "shell.execute_reply.started": "2023-04-04T15:06:22.102376Z"
    },
    "trusted": true
   },
   "outputs": [
    {
     "name": "stdout",
     "output_type": "stream",
     "text": [
      "Max closing rank over the years has been -  1144790\n"
     ]
    }
   ],
   "source": [
    "max_closing_rank = df['closing_rank'].max(axis = 0)\n",
    "max_close_rank = round(max_closing_rank)\n",
    "print(\"Max closing rank over the years has been - \", max_close_rank)"
   ]
  },
  {
   "cell_type": "code",
   "execution_count": 31,
   "metadata": {
    "execution": {
     "iopub.execute_input": "2023-04-04T15:06:23.443780Z",
     "iopub.status.busy": "2023-04-04T15:06:23.443381Z",
     "iopub.status.idle": "2023-04-04T15:06:23.450787Z",
     "shell.execute_reply": "2023-04-04T15:06:23.449720Z",
     "shell.execute_reply.started": "2023-04-04T15:06:23.443746Z"
    },
    "trusted": true
   },
   "outputs": [
    {
     "name": "stdout",
     "output_type": "stream",
     "text": [
      "Min closing rank over the years has been -  0\n"
     ]
    }
   ],
   "source": [
    "min_closing_rank = df['closing_rank'].min(axis = 0)\n",
    "min_close_rank = round(min_closing_rank)\n",
    "print(\"Min closing rank over the years has been - \", min_close_rank)"
   ]
  },
  {
   "cell_type": "markdown",
   "metadata": {},
   "source": [
    "**<span style=\"color:#006600;\">From analysis of Opening and Closing ranks, we can say that on average if you score a rank around ~8000 then you might become eligible. While keeping in mind the quota factor, the maximum and minimum ranks still vary on a range of large scale till about 10 lakhs.</span>**"
   ]
  },
  {
   "cell_type": "markdown",
   "metadata": {},
   "source": [
    "## **<span style=\"color:#ff3385;\">3️⃣  Which universities/colleges provide preparatory courses? </span>**"
   ]
  },
  {
   "cell_type": "markdown",
   "metadata": {},
   "source": [
    "The IIT Preparatory Course comprises of courses in Mathematics, Physics, Chemistry and English for two semesters after which the candidates are evaluated."
   ]
  },
  {
   "cell_type": "code",
   "execution_count": 25,
   "metadata": {
    "execution": {
     "iopub.execute_input": "2023-04-04T15:06:34.051788Z",
     "iopub.status.busy": "2023-04-04T15:06:34.051360Z",
     "iopub.status.idle": "2023-04-04T15:06:34.369565Z",
     "shell.execute_reply": "2023-04-04T15:06:34.368325Z",
     "shell.execute_reply.started": "2023-04-04T15:06:34.051752Z"
    },
    "trusted": true
   },
   "outputs": [
    {
     "data": {
      "image/png": "[encoded data removed]",
      "text/plain": [
       "<Figure size 1500x800 with 1 Axes>"
      ]
     },
     "metadata": {},
     "output_type": "display_data"
    }
   ],
   "source": [
    "# Which universities/colleges provide preparatory courses (represented by 1)\n",
    "\n",
    "plt.figure(figsize=(15,8))\n",
    "prep_true = df.loc[df['is_preparatory'] == 1, 'institute_short'].value_counts()\n",
    "plt.plot(prep_true, 'o', color = \"#ff0000\", alpha = 0.5)\n",
    "plt.xticks(rotation = 60)\n",
    "plt.show() "
   ]
  },
  {
   "cell_type": "markdown",
   "metadata": {},
   "source": [
    "**<span style=\"color:#006600;\"> From the above chart, we found some of the colleges that provide preparatory courses. Here IIT Kharagpur provides maximum number of preparatory courses to students followed by IIT Roorkee and BHU.</span>**"
   ]
  },
  {
   "cell_type": "markdown",
   "metadata": {},
   "source": [
    "## **<span style=\"color:#ff3385;\">4️⃣ Which category gets most prefrence for prepratory courses?</span>**"
   ]
  },
  {
   "cell_type": "code",
   "execution_count": 33,
   "metadata": {
    "execution": {
     "iopub.execute_input": "2023-04-04T15:06:42.426934Z",
     "iopub.status.busy": "2023-04-04T15:06:42.426524Z",
     "iopub.status.idle": "2023-04-04T15:06:42.688215Z",
     "shell.execute_reply": "2023-04-04T15:06:42.686877Z",
     "shell.execute_reply.started": "2023-04-04T15:06:42.426900Z"
    },
    "trusted": true
   },
   "outputs": [
    {
     "data": {
      "image/png": "[encoded data removed]",
      "text/plain": [
       "<Figure size 1500x800 with 1 Axes>"
      ]
     },
     "metadata": {},
     "output_type": "display_data"
    }
   ],
   "source": [
    "plt.figure(figsize=(15,8))\n",
    "category_true = df.loc[df['is_preparatory'] == 1, 'category'].value_counts()\n",
    "category_plot = category_true.plot(kind = 'bar', color = \"#000066\", alpha = 0.5)\n",
    "\n",
    "plt.xticks(rotation = 360)\n",
    "plt.legend()\n",
    "plt.show()"
   ]
  },
  {
   "cell_type": "markdown",
   "metadata": {},
   "source": [
    "## **<span style=\"color:#ff3385;\">5️⃣ Institutes and degrees they provide </span>**"
   ]
  },
  {
   "cell_type": "markdown",
   "metadata": {},
   "source": [
    "Here '**degree_short**' The name of the degree (Abbreviated) and '**institute_short**' is the name of institute (Abbreviated)"
   ]
  },
  {
   "cell_type": "code",
   "execution_count": 34,
   "metadata": {
    "execution": {
     "iopub.execute_input": "2023-04-04T15:07:07.640097Z",
     "iopub.status.busy": "2023-04-04T15:07:07.639660Z",
     "iopub.status.idle": "2023-04-04T15:07:08.053272Z",
     "shell.execute_reply": "2023-04-04T15:07:08.052220Z",
     "shell.execute_reply.started": "2023-04-04T15:07:07.640062Z"
    },
    "trusted": true
   },
   "outputs": [
    {
     "data": {
      "image/png": "[encoded data removed]",
      "text/plain": [
       "<Figure size 1500x800 with 1 Axes>"
      ]
     },
     "metadata": {},
     "output_type": "display_data"
    }
   ],
   "source": [
    "plt.figure(figsize=(15,8))\n",
    "year_club = df.groupby(['degree_short','institute_short']).institute_short.count().head(20).plot(kind = 'bar',color = \"#ff6600\", alpha = 0.5)\n",
    "plt.legend()\n",
    "plt.show()"
   ]
  },
  {
   "cell_type": "markdown",
   "metadata": {},
   "source": [
    "**<span style=\"color:#006600;\">As per above bar graph, B.Tech still seems to be the choice of most students when it comes to getting admission in IIT or NITs.</span>**"
   ]
  },
  {
   "cell_type": "markdown",
   "metadata": {},
   "source": [
    "## **<span style=\"color:#ff3385;\">6️⃣ Institutes who provide 4 year and 5 year courses.</span>**"
   ]
  },
  {
   "cell_type": "code",
   "execution_count": 35,
   "metadata": {
    "execution": {
     "iopub.execute_input": "2023-04-04T15:07:17.129926Z",
     "iopub.status.busy": "2023-04-04T15:07:17.129510Z",
     "iopub.status.idle": "2023-04-04T15:07:17.509372Z",
     "shell.execute_reply": "2023-04-04T15:07:17.507689Z",
     "shell.execute_reply.started": "2023-04-04T15:07:17.129893Z"
    },
    "trusted": true
   },
   "outputs": [
    {
     "data": {
      "image/png": "[encoded data removed]",
      "text/plain": [
       "<Figure size 1500x800 with 1 Axes>"
      ]
     },
     "metadata": {},
     "output_type": "display_data"
    }
   ],
   "source": [
    "#Institutes with 4 year courses\n",
    "\n",
    "plt.figure(figsize=(15,8))\n",
    "\n",
    "years_true = df.loc[df['program_duration'] == '4 Years', 'institute_short'].value_counts().head(20).plot(kind = 'bar',color = \"#47d147\", alpha = 0.5)\n",
    "\n",
    "plt.legend()\n",
    "plt.show()"
   ]
  },
  {
   "cell_type": "markdown",
   "metadata": {},
   "source": [
    "**<span style=\"color:#006600;\">IIT Kharagpur has most 4 years courses to offer followed by IIT-Delhi and IIT-Kanpur.</span>**"
   ]
  },
  {
   "cell_type": "code",
   "execution_count": 36,
   "metadata": {
    "execution": {
     "iopub.execute_input": "2023-04-04T15:07:20.293155Z",
     "iopub.status.busy": "2023-04-04T15:07:20.292737Z",
     "iopub.status.idle": "2023-04-04T15:07:20.812516Z",
     "shell.execute_reply": "2023-04-04T15:07:20.811432Z",
     "shell.execute_reply.started": "2023-04-04T15:07:20.293120Z"
    },
    "trusted": true
   },
   "outputs": [
    {
     "data": {
      "image/png": "[encoded data removed]",
      "text/plain": [
       "<Figure size 1500x800 with 1 Axes>"
      ]
     },
     "metadata": {},
     "output_type": "display_data"
    }
   ],
   "source": [
    "#Institutes with 5 year courses\n",
    "\n",
    "plt.figure(figsize=(15,8))\n",
    "\n",
    "years_true = df.loc[df['program_duration'] == '5 Years', 'institute_short'].value_counts().head(20).plot(kind = 'bar',color = \"#ff4da6\", alpha = 0.5)\n",
    "plt.legend()\n",
    "plt.show()"
   ]
  },
  {
   "cell_type": "markdown",
   "metadata": {},
   "source": [
    "**<span style=\"color:#006600;\">IIT Kharagpur has most 5 years courses to offer followed by IIT-Varanasi and IIT-Roorkee.</span>**"
   ]
  },
  {
   "cell_type": "markdown",
   "metadata": {},
   "source": [
    "***"
   ]
  },
  {
   "cell_type": "markdown",
   "metadata": {},
   "source": [
    "# **<span style=\"color:#ff3385;\">⚔ Evaluation of the model</span>**\n",
    "\n",
    "Here we evaluate the model and find its error and accuracy rate based on the given feature and target data. We also find out that how the model works when we give it a specific type of data for the prediction."
   ]
  },
  {
   "cell_type": "code",
   "execution_count": 19,
   "metadata": {
    "execution": {
     "iopub.execute_input": "2023-04-04T15:07:27.343707Z",
     "iopub.status.busy": "2023-04-04T15:07:27.343264Z",
     "iopub.status.idle": "2023-04-04T15:07:27.365336Z",
     "shell.execute_reply": "2023-04-04T15:07:27.363821Z",
     "shell.execute_reply.started": "2023-04-04T15:07:27.343672Z"
    },
    "trusted": true
   },
   "outputs": [
    {
     "data": {
      "text/html": [
       "<div>\n",
       "<style scoped>\n",
       "    .dataframe tbody tr th:only-of-type {\n",
       "        vertical-align: middle;\n",
       "    }\n",
       "\n",
       "    .dataframe tbody tr th {\n",
       "        vertical-align: top;\n",
       "    }\n",
       "\n",
       "    .dataframe thead th {\n",
       "        text-align: right;\n",
       "    }\n",
       "</style>\n",
       "<table border=\"1\" class=\"dataframe\">\n",
       "  <thead>\n",
       "    <tr style=\"text-align: right;\">\n",
       "      <th></th>\n",
       "      <th>Unnamed: 0.1</th>\n",
       "      <th>year</th>\n",
       "      <th>institute_type</th>\n",
       "      <th>round_no</th>\n",
       "      <th>quota</th>\n",
       "      <th>pool</th>\n",
       "      <th>institute_short</th>\n",
       "      <th>program_name</th>\n",
       "      <th>program_duration</th>\n",
       "      <th>degree_short</th>\n",
       "      <th>category</th>\n",
       "      <th>opening_rank</th>\n",
       "      <th>closing_rank</th>\n",
       "      <th>is_preparatory</th>\n",
       "    </tr>\n",
       "  </thead>\n",
       "  <tbody>\n",
       "    <tr>\n",
       "      <th>0</th>\n",
       "      <td>0</td>\n",
       "      <td>2016</td>\n",
       "      <td>IIT</td>\n",
       "      <td>6</td>\n",
       "      <td>AI</td>\n",
       "      <td>Gender-Neutral</td>\n",
       "      <td>IIT-Bombay</td>\n",
       "      <td>Aerospace Engineering</td>\n",
       "      <td>4 Years</td>\n",
       "      <td>B.Tech</td>\n",
       "      <td>GEN</td>\n",
       "      <td>838</td>\n",
       "      <td>1841</td>\n",
       "      <td>0</td>\n",
       "    </tr>\n",
       "    <tr>\n",
       "      <th>1</th>\n",
       "      <td>1</td>\n",
       "      <td>2016</td>\n",
       "      <td>IIT</td>\n",
       "      <td>6</td>\n",
       "      <td>AI</td>\n",
       "      <td>Gender-Neutral</td>\n",
       "      <td>IIT-Bombay</td>\n",
       "      <td>Aerospace Engineering</td>\n",
       "      <td>4 Years</td>\n",
       "      <td>B.Tech</td>\n",
       "      <td>OBC-NCL</td>\n",
       "      <td>408</td>\n",
       "      <td>1098</td>\n",
       "      <td>0</td>\n",
       "    </tr>\n",
       "    <tr>\n",
       "      <th>2</th>\n",
       "      <td>2</td>\n",
       "      <td>2016</td>\n",
       "      <td>IIT</td>\n",
       "      <td>6</td>\n",
       "      <td>AI</td>\n",
       "      <td>Gender-Neutral</td>\n",
       "      <td>IIT-Bombay</td>\n",
       "      <td>Aerospace Engineering</td>\n",
       "      <td>4 Years</td>\n",
       "      <td>B.Tech</td>\n",
       "      <td>SC</td>\n",
       "      <td>297</td>\n",
       "      <td>468</td>\n",
       "      <td>0</td>\n",
       "    </tr>\n",
       "    <tr>\n",
       "      <th>3</th>\n",
       "      <td>3</td>\n",
       "      <td>2016</td>\n",
       "      <td>IIT</td>\n",
       "      <td>6</td>\n",
       "      <td>AI</td>\n",
       "      <td>Gender-Neutral</td>\n",
       "      <td>IIT-Bombay</td>\n",
       "      <td>Aerospace Engineering</td>\n",
       "      <td>4 Years</td>\n",
       "      <td>B.Tech</td>\n",
       "      <td>ST</td>\n",
       "      <td>79</td>\n",
       "      <td>145</td>\n",
       "      <td>0</td>\n",
       "    </tr>\n",
       "    <tr>\n",
       "      <th>4</th>\n",
       "      <td>4</td>\n",
       "      <td>2016</td>\n",
       "      <td>IIT</td>\n",
       "      <td>6</td>\n",
       "      <td>AI</td>\n",
       "      <td>Gender-Neutral</td>\n",
       "      <td>IIT-Bombay</td>\n",
       "      <td>Aerospace Engineering</td>\n",
       "      <td>4 Years</td>\n",
       "      <td>B.Tech</td>\n",
       "      <td>GEN-PWD</td>\n",
       "      <td>94</td>\n",
       "      <td>94</td>\n",
       "      <td>0</td>\n",
       "    </tr>\n",
       "  </tbody>\n",
       "</table>\n",
       "</div>"
      ],
      "text/plain": [
       "   Unnamed: 0.1  year institute_type  round_no quota            pool  \\\n",
       "0             0  2016            IIT         6    AI  Gender-Neutral   \n",
       "1             1  2016            IIT         6    AI  Gender-Neutral   \n",
       "2             2  2016            IIT         6    AI  Gender-Neutral   \n",
       "3             3  2016            IIT         6    AI  Gender-Neutral   \n",
       "4             4  2016            IIT         6    AI  Gender-Neutral   \n",
       "\n",
       "  institute_short           program_name program_duration degree_short  \\\n",
       "0      IIT-Bombay  Aerospace Engineering          4 Years       B.Tech   \n",
       "1      IIT-Bombay  Aerospace Engineering          4 Years       B.Tech   \n",
       "2      IIT-Bombay  Aerospace Engineering          4 Years       B.Tech   \n",
       "3      IIT-Bombay  Aerospace Engineering          4 Years       B.Tech   \n",
       "4      IIT-Bombay  Aerospace Engineering          4 Years       B.Tech   \n",
       "\n",
       "  category  opening_rank  closing_rank  is_preparatory  \n",
       "0      GEN           838          1841               0  \n",
       "1  OBC-NCL           408          1098               0  \n",
       "2       SC           297           468               0  \n",
       "3       ST            79           145               0  \n",
       "4  GEN-PWD            94            94               0  "
      ]
     },
     "execution_count": 19,
     "metadata": {},
     "output_type": "execute_result"
    }
   ],
   "source": [
    "eval_College = df\n",
    "eval_College.head()"
   ]
  },
  {
   "cell_type": "code",
   "execution_count": 20,
   "metadata": {},
   "outputs": [
    {
     "data": {
      "text/plain": [
       "(64958, 14)"
      ]
     },
     "execution_count": 20,
     "metadata": {},
     "output_type": "execute_result"
    }
   ],
   "source": [
    "eval_College.shape"
   ]
  },
  {
   "cell_type": "markdown",
   "metadata": {},
   "source": [
    "## **<span style=\"color:#a300cc;\">🔁 Converting object values into numerical form</span>**\n",
    "\n",
    "**institute_type** - IIT : 0, NIT : 1\n",
    "\n",
    "**Quota** :-\n",
    "\n",
    "AI : All-India - 0\n",
    "\n",
    "HS : Home-State - 3\n",
    "\n",
    "OS : Other-State - 6\n",
    "\n",
    "AP : Andhra Pradesh - 1\n",
    "\n",
    "GO : Goa - 2\n",
    "\n",
    "JK : Jammu & Kashmir - 4\n",
    "\n",
    "LA : Ladakh - 5\n",
    "\n",
    "**Pool** - Gender-Neutral : 0, Female-only : 1\n",
    "\n",
    "**Category** :-\n",
    "\n",
    "GEN : General - 0\n",
    "\n",
    "OBC-NCL : Other Backward Classes-Non Creamy Layer - 4\n",
    "\n",
    "SC : Scheduled Castes - 6\n",
    "\n",
    "ST : Scheduled Tribes - 8\n",
    "\n",
    "GEN-PWD : General & Persons with Disabilities - 3\n",
    "\n",
    "OBC-NCL-PWD : Other Backward Classes & Persons with Disabilities - 5\n",
    "\n",
    "SC-PWD : Scheduled Castes & Persons with Disabilities - 7\n",
    "\n",
    "ST-PWD : Scheduled Tribes & Persons with Disabilities - 9\n",
    "\n",
    "GEN-EWS : General & Economically Weaker Section - 1\n",
    "\n",
    "GEN-EWS-PWD : General & Economically Weaker Section & Persons with Disability - 2"
   ]
  },
  {
   "cell_type": "code",
   "execution_count": 23,
   "metadata": {
    "execution": {
     "iopub.execute_input": "2023-04-04T15:07:30.148268Z",
     "iopub.status.busy": "2023-04-04T15:07:30.147792Z",
     "iopub.status.idle": "2023-04-04T15:07:30.190771Z",
     "shell.execute_reply": "2023-04-04T15:07:30.189439Z",
     "shell.execute_reply.started": "2023-04-04T15:07:30.148210Z"
    },
    "trusted": true
   },
   "outputs": [
    {
     "data": {
      "text/plain": [
       "array([0, 1], dtype=int64)"
      ]
     },
     "execution_count": 23,
     "metadata": {},
     "output_type": "execute_result"
    }
   ],
   "source": [
    "# Changing Institute type\n",
    "\n",
    "eval_College['institute_type'] = [0 if x == 'IIT' else 1 for x in eval_College['institute_type']]\n",
    "eval_College['institute_type'].unique()"
   ]
  },
  {
   "cell_type": "code",
   "execution_count": 22,
   "metadata": {
    "execution": {
     "iopub.execute_input": "2023-04-04T15:07:31.248460Z",
     "iopub.status.busy": "2023-04-04T15:07:31.248016Z",
     "iopub.status.idle": "2023-04-04T15:07:31.254715Z",
     "shell.execute_reply": "2023-04-04T15:07:31.253146Z",
     "shell.execute_reply.started": "2023-04-04T15:07:31.248422Z"
    },
    "trusted": true
   },
   "outputs": [],
   "source": [
    "# importing library for encoding\n",
    "\n",
    "from sklearn.preprocessing import LabelEncoder"
   ]
  },
  {
   "cell_type": "code",
   "execution_count": 25,
   "metadata": {
    "execution": {
     "iopub.execute_input": "2023-04-04T15:07:33.255378Z",
     "iopub.status.busy": "2023-04-04T15:07:33.254874Z",
     "iopub.status.idle": "2023-04-04T15:07:33.283416Z",
     "shell.execute_reply": "2023-04-04T15:07:33.282371Z",
     "shell.execute_reply.started": "2023-04-04T15:07:33.255337Z"
    },
    "trusted": true
   },
   "outputs": [
    {
     "data": {
      "text/plain": [
       "array([0, 3, 6, 1, 2, 4, 5])"
      ]
     },
     "execution_count": 25,
     "metadata": {},
     "output_type": "execute_result"
    }
   ],
   "source": [
    "# Labeling the quota values\n",
    "\n",
    "le = LabelEncoder()\n",
    "eval_College['quota'] = le.fit_transform(eval_College['quota'])\n",
    "eval_College['quota'].unique()"
   ]
  },
  {
   "cell_type": "code",
   "execution_count": 26,
   "metadata": {
    "execution": {
     "iopub.execute_input": "2023-04-04T15:07:35.356128Z",
     "iopub.status.busy": "2023-04-04T15:07:35.355474Z",
     "iopub.status.idle": "2023-04-04T15:07:35.395931Z",
     "shell.execute_reply": "2023-04-04T15:07:35.394505Z",
     "shell.execute_reply.started": "2023-04-04T15:07:35.356078Z"
    },
    "trusted": true
   },
   "outputs": [
    {
     "data": {
      "text/plain": [
       "array([0, 1], dtype=int64)"
      ]
     },
     "execution_count": 26,
     "metadata": {},
     "output_type": "execute_result"
    }
   ],
   "source": [
    "# changing the pool values\n",
    "\n",
    "eval_College['pool'] = [0 if x == 'Gender-Neutral' else 1 for x in eval_College['pool']]\n",
    "eval_College['pool'].unique()"
   ]
  },
  {
   "cell_type": "code",
   "execution_count": 27,
   "metadata": {
    "execution": {
     "iopub.execute_input": "2023-04-04T15:07:36.678931Z",
     "iopub.status.busy": "2023-04-04T15:07:36.678418Z",
     "iopub.status.idle": "2023-04-04T15:07:36.708770Z",
     "shell.execute_reply": "2023-04-04T15:07:36.706676Z",
     "shell.execute_reply.started": "2023-04-04T15:07:36.678890Z"
    },
    "trusted": true
   },
   "outputs": [
    {
     "data": {
      "text/plain": [
       "array([0, 4, 6, 8, 3, 5, 7, 9, 1, 2])"
      ]
     },
     "execution_count": 27,
     "metadata": {},
     "output_type": "execute_result"
    }
   ],
   "source": [
    "# Labeling the categories\n",
    "\n",
    "eval_College['category']= le.fit_transform(eval_College['category'])\n",
    "eval_College['category'].unique()"
   ]
  },
  {
   "cell_type": "code",
   "execution_count": 28,
   "metadata": {
    "execution": {
     "iopub.execute_input": "2023-04-04T15:07:42.066267Z",
     "iopub.status.busy": "2023-04-04T15:07:42.065832Z",
     "iopub.status.idle": "2023-04-04T15:07:42.095571Z",
     "shell.execute_reply": "2023-04-04T15:07:42.093805Z",
     "shell.execute_reply.started": "2023-04-04T15:07:42.066213Z"
    },
    "trusted": true
   },
   "outputs": [
    {
     "data": {
      "text/plain": [
       "array([ 4,  5, 15, 14, 16, 20,  9, 11, 10,  0, 19,  1,  3, 17,  7, 21, 13,\n",
       "       22,  2,  6,  8, 12, 18, 53, 51, 52, 50, 42, 25, 34, 33, 27, 24, 28,\n",
       "       23, 29, 30, 31, 32, 39, 36, 43, 41, 44, 45, 47, 26, 35, 37, 38, 40,\n",
       "       46, 48, 49])"
      ]
     },
     "execution_count": 28,
     "metadata": {},
     "output_type": "execute_result"
    }
   ],
   "source": [
    "# Labeling the Institute values\n",
    "\n",
    "eval_College['institute_short']= le.fit_transform(eval_College['institute_short'])\n",
    "eval_College['institute_short'].unique()"
   ]
  },
  {
   "cell_type": "code",
   "execution_count": 29,
   "metadata": {
    "execution": {
     "iopub.execute_input": "2023-04-04T15:07:43.868031Z",
     "iopub.status.busy": "2023-04-04T15:07:43.867634Z",
     "iopub.status.idle": "2023-04-04T15:07:43.896400Z",
     "shell.execute_reply": "2023-04-04T15:07:43.895003Z",
     "shell.execute_reply.started": "2023-04-04T15:07:43.867999Z"
    },
    "trusted": true
   },
   "outputs": [
    {
     "data": {
      "text/plain": [
       "array([  0,  28,  31,  32,  42,  47,  51,  52,  64,  66,  67,  98, 101,\n",
       "       107, 108, 109,  14,  24,  48,  95, 126, 129,   1,   2,   4,   7,\n",
       "        37,  46,  54,  58,  59,  72,  79,  80,  83,  86, 114,  87, 104,\n",
       "       110, 116, 118, 122, 127,  20,  45,  90,  97,  18,  19,  65, 117,\n",
       "         6,  13,  57,  74,  75, 124,  29,  61,  68,  91,  15,  17,  26,\n",
       "        36,  53,  56,  76,  92, 105, 121,   5,  62,  70, 112, 115, 119,\n",
       "        33,  34,  99, 100, 120,  35,  49, 103, 111,  10,  71, 102, 106,\n",
       "         3,  60,  81,  88,   8,  16,  44,  11,  55,  50,  69,  89,  21,\n",
       "         9,  38, 113,  22,  43,  63, 128,  30,  94,  25,  39,  84, 125,\n",
       "        41,  93,  82,  78, 123,  23,  12,  77,  73,  27,  85,  96,  40])"
      ]
     },
     "execution_count": 29,
     "metadata": {},
     "output_type": "execute_result"
    }
   ],
   "source": [
    "# Labeling the Program Name values\n",
    "\n",
    "eval_College['program_name']= le.fit_transform(eval_College['program_name'])\n",
    "eval_College['program_name'].unique()"
   ]
  },
  {
   "cell_type": "code",
   "execution_count": 30,
   "metadata": {
    "execution": {
     "iopub.execute_input": "2023-04-04T15:07:45.429860Z",
     "iopub.status.busy": "2023-04-04T15:07:45.429467Z",
     "iopub.status.idle": "2023-04-04T15:07:45.454597Z",
     "shell.execute_reply": "2023-04-04T15:07:45.453318Z",
     "shell.execute_reply.started": "2023-04-04T15:07:45.429828Z"
    },
    "trusted": true
   },
   "outputs": [
    {
     "data": {
      "text/plain": [
       "array([ 4,  7,  5, 11,  0, 10,  1,  2,  6,  3,  9,  8])"
      ]
     },
     "execution_count": 30,
     "metadata": {},
     "output_type": "execute_result"
    }
   ],
   "source": [
    "# Labeling the Degree values\n",
    "\n",
    "eval_College['degree_short']= le.fit_transform(eval_College['degree_short'])\n",
    "eval_College['degree_short'].unique()"
   ]
  },
  {
   "cell_type": "code",
   "execution_count": 31,
   "metadata": {
    "execution": {
     "iopub.execute_input": "2023-04-04T15:07:46.612791Z",
     "iopub.status.busy": "2023-04-04T15:07:46.612364Z",
     "iopub.status.idle": "2023-04-04T15:07:46.629411Z",
     "shell.execute_reply": "2023-04-04T15:07:46.627904Z",
     "shell.execute_reply.started": "2023-04-04T15:07:46.612753Z"
    },
    "trusted": true
   },
   "outputs": [],
   "source": [
    "# Target data\n",
    "\n",
    "y = eval_College[['institute_short', 'degree_short', 'program_name']]"
   ]
  },
  {
   "cell_type": "code",
   "execution_count": 33,
   "metadata": {
    "execution": {
     "iopub.execute_input": "2023-04-04T15:07:47.890533Z",
     "iopub.status.busy": "2023-04-04T15:07:47.889213Z",
     "iopub.status.idle": "2023-04-04T15:07:47.898629Z",
     "shell.execute_reply": "2023-04-04T15:07:47.897310Z",
     "shell.execute_reply.started": "2023-04-04T15:07:47.890447Z"
    },
    "trusted": true
   },
   "outputs": [],
   "source": [
    "# Featured data\n",
    "\n",
    "X = eval_College[['category', 'quota', 'pool', 'institute_type', 'round_no',\n",
    "       'opening_rank', 'closing_rank']]"
   ]
  },
  {
   "cell_type": "code",
   "execution_count": 34,
   "metadata": {
    "execution": {
     "iopub.execute_input": "2023-04-04T15:07:49.287524Z",
     "iopub.status.busy": "2023-04-04T15:07:49.287100Z",
     "iopub.status.idle": "2023-04-04T15:07:49.305524Z",
     "shell.execute_reply": "2023-04-04T15:07:49.304408Z",
     "shell.execute_reply.started": "2023-04-04T15:07:49.287487Z"
    },
    "trusted": true
   },
   "outputs": [],
   "source": [
    "# Spilliting the data into training and testing dataset\n",
    "\n",
    "from sklearn.model_selection import train_test_split\n",
    "X_train, X_test, y_train, y_test = train_test_split(X, y, train_size = 0.8)"
   ]
  },
  {
   "cell_type": "code",
   "execution_count": 35,
   "metadata": {
    "execution": {
     "iopub.execute_input": "2023-04-04T15:07:59.134146Z",
     "iopub.status.busy": "2023-04-04T15:07:59.133296Z",
     "iopub.status.idle": "2023-04-04T15:07:59.138849Z",
     "shell.execute_reply": "2023-04-04T15:07:59.137662Z",
     "shell.execute_reply.started": "2023-04-04T15:07:59.134104Z"
    },
    "trusted": true
   },
   "outputs": [],
   "source": [
    "# Importing library for mdoel generation\n",
    "\n",
    "from sklearn.neighbors import KNeighborsClassifier"
   ]
  },
  {
   "cell_type": "code",
   "execution_count": 36,
   "metadata": {
    "execution": {
     "iopub.execute_input": "2023-04-04T15:08:02.067095Z",
     "iopub.status.busy": "2023-04-04T15:08:02.066648Z",
     "iopub.status.idle": "2023-04-04T15:08:02.073149Z",
     "shell.execute_reply": "2023-04-04T15:08:02.071805Z",
     "shell.execute_reply.started": "2023-04-04T15:08:02.067058Z"
    },
    "trusted": true
   },
   "outputs": [],
   "source": [
    "# Regenerating the model once again\n",
    "\n",
    "model = KNeighborsClassifier()"
   ]
  },
  {
   "cell_type": "code",
   "execution_count": 37,
   "metadata": {
    "execution": {
     "iopub.execute_input": "2023-04-04T15:08:04.302417Z",
     "iopub.status.busy": "2023-04-04T15:08:04.301406Z",
     "iopub.status.idle": "2023-04-04T15:08:05.142512Z",
     "shell.execute_reply": "2023-04-04T15:08:05.141178Z",
     "shell.execute_reply.started": "2023-04-04T15:08:04.302353Z"
    },
    "trusted": true
   },
   "outputs": [
    {
     "data": {
      "text/html": [
       "<style>#sk-container-id-1 {color: black;}#sk-container-id-1 pre{padding: 0;}#sk-container-id-1 div.sk-toggleable {background-color: white;}#sk-container-id-1 label.sk-toggleable__label {cursor: pointer;display: block;width: 100%;margin-bottom: 0;padding: 0.3em;box-sizing: border-box;text-align: center;}#sk-container-id-1 label.sk-toggleable__label-arrow:before {content: \"▸\";float: left;margin-right: 0.25em;color: #696969;}#sk-container-id-1 label.sk-toggleable__label-arrow:hover:before {color: black;}#sk-container-id-1 div.sk-estimator:hover label.sk-toggleable__label-arrow:before {color: black;}#sk-container-id-1 div.sk-toggleable__content {max-height: 0;max-width: 0;overflow: hidden;text-align: left;background-color: #f0f8ff;}#sk-container-id-1 div.sk-toggleable__content pre {margin: 0.2em;color: black;border-radius: 0.25em;background-color: #f0f8ff;}#sk-container-id-1 input.sk-toggleable__control:checked~div.sk-toggleable__content {max-height: 200px;max-width: 100%;overflow: auto;}#sk-container-id-1 input.sk-toggleable__control:checked~label.sk-toggleable__label-arrow:before {content: \"▾\";}#sk-container-id-1 div.sk-estimator input.sk-toggleable__control:checked~label.sk-toggleable__label {background-color: #d4ebff;}#sk-container-id-1 div.sk-label input.sk-toggleable__control:checked~label.sk-toggleable__label {background-color: #d4ebff;}#sk-container-id-1 input.sk-hidden--visually {border: 0;clip: rect(1px 1px 1px 1px);clip: rect(1px, 1px, 1px, 1px);height: 1px;margin: -1px;overflow: hidden;padding: 0;position: absolute;width: 1px;}#sk-container-id-1 div.sk-estimator {font-family: monospace;background-color: #f0f8ff;border: 1px dotted black;border-radius: 0.25em;box-sizing: border-box;margin-bottom: 0.5em;}#sk-container-id-1 div.sk-estimator:hover {background-color: #d4ebff;}#sk-container-id-1 div.sk-parallel-item::after {content: \"\";width: 100%;border-bottom: 1px solid gray;flex-grow: 1;}#sk-container-id-1 div.sk-label:hover label.sk-toggleable__label {background-color: #d4ebff;}#sk-container-id-1 div.sk-serial::before {content: \"\";position: absolute;border-left: 1px solid gray;box-sizing: border-box;top: 0;bottom: 0;left: 50%;z-index: 0;}#sk-container-id-1 div.sk-serial {display: flex;flex-direction: column;align-items: center;background-color: white;padding-right: 0.2em;padding-left: 0.2em;position: relative;}#sk-container-id-1 div.sk-item {position: relative;z-index: 1;}#sk-container-id-1 div.sk-parallel {display: flex;align-items: stretch;justify-content: center;background-color: white;position: relative;}#sk-container-id-1 div.sk-item::before, #sk-container-id-1 div.sk-parallel-item::before {content: \"\";position: absolute;border-left: 1px solid gray;box-sizing: border-box;top: 0;bottom: 0;left: 50%;z-index: -1;}#sk-container-id-1 div.sk-parallel-item {display: flex;flex-direction: column;z-index: 1;position: relative;background-color: white;}#sk-container-id-1 div.sk-parallel-item:first-child::after {align-self: flex-end;width: 50%;}#sk-container-id-1 div.sk-parallel-item:last-child::after {align-self: flex-start;width: 50%;}#sk-container-id-1 div.sk-parallel-item:only-child::after {width: 0;}#sk-container-id-1 div.sk-dashed-wrapped {border: 1px dashed gray;margin: 0 0.4em 0.5em 0.4em;box-sizing: border-box;padding-bottom: 0.4em;background-color: white;}#sk-container-id-1 div.sk-label label {font-family: monospace;font-weight: bold;display: inline-block;line-height: 1.2em;}#sk-container-id-1 div.sk-label-container {text-align: center;}#sk-container-id-1 div.sk-container {/* jupyter's `normalize.less` sets `[hidden] { display: none; }` but bootstrap.min.css set `[hidden] { display: none !important; }` so we also need the `!important` here to be able to override the default hidden behavior on the sphinx rendered scikit-learn.org. See: https://github.com/scikit-learn/scikit-learn/issues/21755 */display: inline-block !important;position: relative;}#sk-container-id-1 div.sk-text-repr-fallback {display: none;}</style><div id=\"sk-container-id-1\" class=\"sk-top-container\"><div class=\"sk-text-repr-fallback\"><pre>KNeighborsClassifier()</pre><b>In a Jupyter environment, please rerun this cell to show the HTML representation or trust the notebook. <br />On GitHub, the HTML representation is unable to render, please try loading this page with nbviewer.org.</b></div><div class=\"sk-container\" hidden><div class=\"sk-item\"><div class=\"sk-estimator sk-toggleable\"><input class=\"sk-toggleable__control sk-hidden--visually\" id=\"sk-estimator-id-1\" type=\"checkbox\" checked><label for=\"sk-estimator-id-1\" class=\"sk-toggleable__label sk-toggleable__label-arrow\">KNeighborsClassifier</label><div class=\"sk-toggleable__content\"><pre>KNeighborsClassifier()</pre></div></div></div></div></div>"
      ],
      "text/plain": [
       "KNeighborsClassifier()"
      ]
     },
     "execution_count": 37,
     "metadata": {},
     "output_type": "execute_result"
    }
   ],
   "source": [
    "model.fit(X_train, y_train)"
   ]
  },
  {
   "cell_type": "code",
   "execution_count": 38,
   "metadata": {
    "execution": {
     "iopub.execute_input": "2023-04-04T15:08:07.224640Z",
     "iopub.status.busy": "2023-04-04T15:08:07.224190Z",
     "iopub.status.idle": "2023-04-04T15:08:07.273857Z",
     "shell.execute_reply": "2023-04-04T15:08:07.272620Z",
     "shell.execute_reply.started": "2023-04-04T15:08:07.224605Z"
    },
    "trusted": true
   },
   "outputs": [
    {
     "data": {
      "text/plain": [
       "array([[ 5,  4, 98],\n",
       "       [33,  0,  7],\n",
       "       [ 0,  4,  6],\n",
       "       ...,\n",
       "       [31,  4, 42],\n",
       "       [48,  4, 98],\n",
       "       [30,  4, 42]])"
      ]
     },
     "execution_count": 38,
     "metadata": {},
     "output_type": "execute_result"
    }
   ],
   "source": [
    "# Predicting the model again in numerical terms\n",
    "\n",
    "y_pred = model.predict(X_test)\n",
    "y_pred"
   ]
  },
  {
   "cell_type": "code",
   "execution_count": 39,
   "metadata": {
    "execution": {
     "iopub.execute_input": "2023-04-04T15:08:09.003747Z",
     "iopub.status.busy": "2023-04-04T15:08:09.003008Z",
     "iopub.status.idle": "2023-04-04T15:08:09.013006Z",
     "shell.execute_reply": "2023-04-04T15:08:09.011543Z",
     "shell.execute_reply.started": "2023-04-04T15:08:09.003706Z"
    },
    "trusted": true
   },
   "outputs": [
    {
     "name": "stdout",
     "output_type": "stream",
     "text": [
      "mean_absolute_error :  5.075661945812808\n"
     ]
    }
   ],
   "source": [
    "# Checking the Mean Absolute error of whole model\n",
    "\n",
    "from sklearn.metrics import mean_absolute_error\n",
    "print(\"mean_absolute_error : \", mean_absolute_error(y_pred, y_test))"
   ]
  },
  {
   "cell_type": "code",
   "execution_count": 40,
   "metadata": {
    "execution": {
     "iopub.execute_input": "2023-04-04T15:10:23.204961Z",
     "iopub.status.busy": "2023-04-04T15:10:23.204518Z",
     "iopub.status.idle": "2023-04-04T15:10:23.259806Z",
     "shell.execute_reply": "2023-04-04T15:10:23.258241Z",
     "shell.execute_reply.started": "2023-04-04T15:10:23.204924Z"
    },
    "trusted": true
   },
   "outputs": [
    {
     "name": "stdout",
     "output_type": "stream",
     "text": [
      "              precision    recall  f1-score   support\n",
      "\n",
      "           0       0.64      0.50      0.56       586\n",
      "           1       0.62      0.51      0.56       365\n",
      "           2       0.69      0.64      0.67        78\n",
      "           3       0.63      0.61      0.62       251\n",
      "           4       0.81      0.70      0.75       682\n",
      "           5       0.78      0.72      0.75       664\n",
      "           6       0.72      0.75      0.74        65\n",
      "           7       0.65      0.65      0.65       122\n",
      "           8       0.58      0.73      0.65        63\n",
      "           9       0.62      0.62      0.62       232\n",
      "          10       0.64      0.62      0.63       236\n",
      "          11       0.65      0.69      0.67        96\n",
      "          12       0.59      0.65      0.62       103\n",
      "          13       0.68      0.73      0.70       119\n",
      "          14       0.79      0.76      0.77       511\n",
      "          15       0.78      0.75      0.76      1219\n",
      "          16       0.72      0.78      0.75       453\n",
      "          17       0.66      0.69      0.67       116\n",
      "          18       0.58      0.67      0.62        49\n",
      "          19       0.70      0.76      0.73       148\n",
      "          20       0.78      0.78      0.78       535\n",
      "          21       0.62      0.68      0.65       111\n",
      "          22       0.57      0.81      0.67        59\n",
      "          23       0.74      0.67      0.70       340\n",
      "          24       0.72      0.69      0.71       324\n",
      "          25       0.00      0.00      0.00         2\n",
      "          26       0.76      0.75      0.75       126\n",
      "          27       0.75      0.69      0.72       337\n",
      "          28       0.74      0.72      0.73       390\n",
      "          29       0.78      0.78      0.78        94\n",
      "          30       0.74      0.74      0.74       344\n",
      "          31       0.75      0.81      0.78       139\n",
      "          32       0.74      0.74      0.74       381\n",
      "          33       0.75      0.75      0.75       274\n",
      "          34       0.71      0.74      0.72       337\n",
      "          35       0.71      0.82      0.76       249\n",
      "          36       0.71      0.79      0.74       341\n",
      "          37       0.71      0.82      0.76       238\n",
      "          38       0.81      0.75      0.78       134\n",
      "          39       0.79      0.76      0.77       104\n",
      "          40       0.77      0.78      0.78        87\n",
      "          41       0.73      0.75      0.74        72\n",
      "          42       0.00      0.00      0.00         1\n",
      "          43       0.70      0.79      0.74       221\n",
      "          44       0.74      0.77      0.75       146\n",
      "          45       0.75      0.74      0.74       384\n",
      "          46       0.73      0.75      0.74       533\n",
      "          47       0.73      0.78      0.76        74\n",
      "          48       0.78      0.74      0.76       253\n",
      "          49       0.63      0.73      0.67       181\n",
      "          50       0.00      0.00      0.00         2\n",
      "          51       0.00      0.00      0.00        10\n",
      "          52       0.00      0.00      0.00         1\n",
      "          53       0.00      0.00      0.00        10\n",
      "\n",
      "    accuracy                           0.71     12992\n",
      "   macro avg       0.63      0.64      0.63     12992\n",
      "weighted avg       0.73      0.71      0.72     12992\n",
      "\n"
     ]
    }
   ],
   "source": [
    "# Accuracy for Institute short\n",
    "\n",
    "from sklearn.metrics import classification_report \n",
    "y_pred1 = y_pred[:,0]\n",
    "y_test1 = y_test.loc[:,\"institute_short\"]\n",
    "print(classification_report(y_pred1, y_test1))"
   ]
  },
  {
   "cell_type": "code",
   "execution_count": 41,
   "metadata": {
    "execution": {
     "iopub.execute_input": "2023-04-04T15:10:50.193463Z",
     "iopub.status.busy": "2023-04-04T15:10:50.192211Z",
     "iopub.status.idle": "2023-04-04T15:10:50.202282Z",
     "shell.execute_reply": "2023-04-04T15:10:50.200581Z",
     "shell.execute_reply.started": "2023-04-04T15:10:50.193412Z"
    },
    "trusted": true
   },
   "outputs": [
    {
     "data": {
      "text/plain": [
       "4.23753078817734"
      ]
     },
     "execution_count": 41,
     "metadata": {},
     "output_type": "execute_result"
    }
   ],
   "source": [
    "mean_absolute_error(y_pred1, y_test1)"
   ]
  },
  {
   "cell_type": "code",
   "execution_count": 42,
   "metadata": {
    "execution": {
     "iopub.execute_input": "2023-04-04T15:08:15.589980Z",
     "iopub.status.busy": "2023-04-04T15:08:15.589472Z",
     "iopub.status.idle": "2023-04-04T15:08:15.600528Z",
     "shell.execute_reply": "2023-04-04T15:08:15.599341Z",
     "shell.execute_reply.started": "2023-04-04T15:08:15.589944Z"
    },
    "trusted": true
   },
   "outputs": [
    {
     "data": {
      "text/plain": [
       "0.7149014778325123"
      ]
     },
     "execution_count": 42,
     "metadata": {},
     "output_type": "execute_result"
    }
   ],
   "source": [
    "from sklearn.metrics import accuracy_score\n",
    "Accuracy1 = accuracy_score(y_pred1, y_test1)\n",
    "Accuracy1"
   ]
  },
  {
   "cell_type": "code",
   "execution_count": 43,
   "metadata": {
    "execution": {
     "iopub.execute_input": "2023-04-04T15:08:17.374447Z",
     "iopub.status.busy": "2023-04-04T15:08:17.373699Z",
     "iopub.status.idle": "2023-04-04T15:08:17.430750Z",
     "shell.execute_reply": "2023-04-04T15:08:17.429500Z",
     "shell.execute_reply.started": "2023-04-04T15:08:17.374408Z"
    },
    "trusted": true
   },
   "outputs": [
    {
     "name": "stdout",
     "output_type": "stream",
     "text": [
      "              precision    recall  f1-score   support\n",
      "\n",
      "           0       0.67      0.83      0.74       214\n",
      "           2       0.00      0.00      0.00         0\n",
      "           3       0.77      0.80      0.78        25\n",
      "           4       0.97      0.94      0.95     10757\n",
      "           5       0.69      0.81      0.74       985\n",
      "           6       1.00      0.81      0.89       160\n",
      "           7       0.86      0.84      0.85       445\n",
      "           8       0.79      0.67      0.73        46\n",
      "           9       0.77      0.78      0.78       172\n",
      "          10       0.72      0.83      0.77       103\n",
      "          11       0.42      0.78      0.54        85\n",
      "\n",
      "    accuracy                           0.92     12992\n",
      "   macro avg       0.70      0.74      0.71     12992\n",
      "weighted avg       0.93      0.92      0.92     12992\n",
      "\n"
     ]
    }
   ],
   "source": [
    "# Accuracy for Program Name\n",
    "\n",
    "from sklearn.metrics import classification_report \n",
    "y_pred2 = y_pred[:,1]\n",
    "y_test2 = y_test.loc[:,\"degree_short\"]\n",
    "print(classification_report(y_pred2, y_test2))"
   ]
  },
  {
   "cell_type": "code",
   "execution_count": 44,
   "metadata": {
    "execution": {
     "iopub.execute_input": "2023-04-04T15:11:52.130918Z",
     "iopub.status.busy": "2023-04-04T15:11:52.130523Z",
     "iopub.status.idle": "2023-04-04T15:11:52.140394Z",
     "shell.execute_reply": "2023-04-04T15:11:52.138971Z",
     "shell.execute_reply.started": "2023-04-04T15:11:52.130885Z"
    },
    "trusted": true
   },
   "outputs": [
    {
     "data": {
      "text/plain": [
       "0.22498460591133004"
      ]
     },
     "execution_count": 44,
     "metadata": {},
     "output_type": "execute_result"
    }
   ],
   "source": [
    "mean_absolute_error(y_pred2, y_test2)"
   ]
  },
  {
   "cell_type": "code",
   "execution_count": 45,
   "metadata": {
    "execution": {
     "iopub.execute_input": "2023-04-04T15:08:19.326720Z",
     "iopub.status.busy": "2023-04-04T15:08:19.326274Z",
     "iopub.status.idle": "2023-04-04T15:08:19.338038Z",
     "shell.execute_reply": "2023-04-04T15:08:19.336814Z",
     "shell.execute_reply.started": "2023-04-04T15:08:19.326683Z"
    },
    "trusted": true
   },
   "outputs": [
    {
     "data": {
      "text/plain": [
       "0.9191810344827587"
      ]
     },
     "execution_count": 45,
     "metadata": {},
     "output_type": "execute_result"
    }
   ],
   "source": [
    "from sklearn.metrics import accuracy_score\n",
    "Accuracy2 = accuracy_score(y_pred2, y_test2)\n",
    "Accuracy2"
   ]
  },
  {
   "cell_type": "code",
   "execution_count": 46,
   "metadata": {
    "execution": {
     "iopub.execute_input": "2023-04-04T15:08:22.044012Z",
     "iopub.status.busy": "2023-04-04T15:08:22.043584Z",
     "iopub.status.idle": "2023-04-04T15:08:22.077769Z",
     "shell.execute_reply": "2023-04-04T15:08:22.076267Z",
     "shell.execute_reply.started": "2023-04-04T15:08:22.043978Z"
    },
    "trusted": true
   },
   "outputs": [
    {
     "name": "stdout",
     "output_type": "stream",
     "text": [
      "              precision    recall  f1-score   support\n",
      "\n",
      "           0       0.79      0.65      0.72       261\n",
      "           1       0.73      0.73      0.73        33\n",
      "           2       0.81      0.64      0.71        33\n",
      "           3       0.00      0.00      0.00         5\n",
      "           4       0.64      0.55      0.59        49\n",
      "           5       0.86      0.60      0.71        20\n",
      "           6       0.00      0.00      0.00         3\n",
      "           7       0.69      0.60      0.64       306\n",
      "           8       0.86      0.79      0.83        48\n",
      "           9       0.89      0.86      0.88        29\n",
      "          10       0.85      0.70      0.77        33\n",
      "          11       0.66      0.66      0.66        29\n",
      "          12       0.76      0.67      0.71        51\n",
      "          13       0.66      0.52      0.58       229\n",
      "          14       0.00      0.00      0.00         3\n",
      "          15       0.55      0.46      0.50        13\n",
      "          16       0.00      0.00      0.00         0\n",
      "          17       0.46      0.67      0.55         9\n",
      "          18       0.70      0.64      0.67        25\n",
      "          19       0.64      0.62      0.63        26\n",
      "          20       0.80      0.74      0.77        27\n",
      "          21       0.73      0.65      0.69        17\n",
      "          22       0.97      0.82      0.89        44\n",
      "          23       0.89      0.73      0.80        11\n",
      "          24       0.73      0.67      0.70       127\n",
      "          25       1.00      0.70      0.82        10\n",
      "          26       0.68      0.54      0.60        70\n",
      "          27       0.83      0.88      0.86        17\n",
      "          28       0.73      0.69      0.71       976\n",
      "          29       0.67      0.50      0.57        20\n",
      "          30       1.00      0.87      0.93        23\n",
      "          31       0.71      0.68      0.69       153\n",
      "          32       0.74      0.72      0.73      1303\n",
      "          33       0.60      1.00      0.75         9\n",
      "          34       0.54      1.00      0.70         7\n",
      "          35       0.60      0.75      0.67         8\n",
      "          36       0.00      0.00      0.00         1\n",
      "          37       0.67      0.76      0.71        29\n",
      "          38       1.00      0.57      0.73        21\n",
      "          39       1.00      1.00      1.00        10\n",
      "          40       1.00      0.78      0.88        18\n",
      "          41       0.72      0.67      0.69        42\n",
      "          42       0.75      0.72      0.73      1795\n",
      "          43       0.73      0.84      0.78        19\n",
      "          44       0.88      0.71      0.79        21\n",
      "          45       0.75      0.82      0.78        33\n",
      "          46       0.86      0.83      0.85       136\n",
      "          47       0.72      0.74      0.73      1127\n",
      "          48       0.89      0.80      0.84        30\n",
      "          49       0.47      1.00      0.64         8\n",
      "          50       0.00      0.00      0.00         0\n",
      "          51       0.00      0.00      0.00         0\n",
      "          52       0.00      0.00      0.00         0\n",
      "          53       0.45      0.75      0.56        12\n",
      "          54       0.86      0.78      0.82        32\n",
      "          55       0.68      0.77      0.72       276\n",
      "          56       0.64      0.76      0.70        21\n",
      "          57       0.73      0.74      0.74       952\n",
      "          58       0.72      0.61      0.66        38\n",
      "          59       0.77      0.77      0.77        31\n",
      "          60       0.00      0.00      0.00         0\n",
      "          61       0.52      0.76      0.62        17\n",
      "          62       0.72      0.69      0.70       106\n",
      "          63       1.00      0.82      0.90        39\n",
      "          64       0.87      1.00      0.93        27\n",
      "          65       0.76      0.83      0.79        23\n",
      "          66       0.72      0.74      0.73       289\n",
      "          67       0.00      0.00      0.00         0\n",
      "          68       0.57      0.67      0.62        12\n",
      "          69       0.82      0.79      0.81        29\n",
      "          70       0.38      0.64      0.47        14\n",
      "          71       0.83      0.79      0.81        24\n",
      "          72       0.71      0.77      0.74        26\n",
      "          73       0.71      0.65      0.68        23\n",
      "          74       0.86      0.73      0.79        33\n",
      "          75       0.79      0.97      0.87        34\n",
      "          76       0.83      0.83      0.83        18\n",
      "          77       0.87      0.80      0.83        25\n",
      "          78       0.58      0.64      0.61        22\n",
      "          79       0.78      0.86      0.82        29\n",
      "          80       0.76      0.90      0.83        21\n",
      "          82       0.68      0.77      0.72       141\n",
      "          83       0.75      0.60      0.67        35\n",
      "          84       0.43      0.75      0.55        20\n",
      "          85       0.76      0.65      0.70        20\n",
      "          86       0.66      0.81      0.72        26\n",
      "          87       0.74      0.78      0.76        18\n",
      "          88       0.00      0.00      0.00         0\n",
      "          89       0.93      0.71      0.81        56\n",
      "          90       0.65      0.66      0.65       111\n",
      "          91       0.69      0.52      0.59        42\n",
      "          92       0.62      0.68      0.65        19\n",
      "          93       0.68      0.91      0.78        23\n",
      "          94       0.94      0.72      0.82        47\n",
      "          95       0.70      0.74      0.72       253\n",
      "          96       1.00      0.77      0.87        22\n",
      "          97       0.79      0.76      0.77        29\n",
      "          98       0.72      0.75      0.74      1255\n",
      "          99       0.62      0.80      0.70        10\n",
      "         100       0.47      0.78      0.58         9\n",
      "         101       0.85      0.81      0.83        27\n",
      "         103       0.64      0.90      0.75        10\n",
      "         104       0.59      0.80      0.68        20\n",
      "         105       0.69      0.69      0.69        32\n",
      "         106       0.83      0.87      0.85        23\n",
      "         107       0.62      0.65      0.64        63\n",
      "         108       0.00      0.00      0.00         0\n",
      "         109       0.00      0.00      0.00         0\n",
      "         110       0.69      0.77      0.73       372\n",
      "         111       0.00      0.00      0.00         0\n",
      "         112       0.00      0.00      0.00         0\n",
      "         113       0.83      0.62      0.71        16\n",
      "         114       0.70      0.81      0.75       175\n",
      "         115       0.62      0.54      0.58        24\n",
      "         116       0.78      0.72      0.75        29\n",
      "         117       0.59      0.86      0.70        22\n",
      "         118       0.75      0.94      0.84        54\n",
      "         119       0.81      0.71      0.76        24\n",
      "         120       0.65      0.90      0.76        31\n",
      "         121       0.00      0.00      0.00         0\n",
      "         122       0.77      0.78      0.77       145\n",
      "         123       0.77      0.77      0.77        26\n",
      "         124       0.00      0.00      0.00         0\n",
      "         125       0.64      0.75      0.69        55\n",
      "         126       0.71      0.88      0.79       133\n",
      "         127       0.00      0.00      0.00         0\n",
      "         128       1.00      1.00      1.00        23\n",
      "         129       0.69      0.71      0.70        62\n",
      "\n",
      "    accuracy                           0.73     12992\n",
      "   macro avg       0.63      0.64      0.63     12992\n",
      "weighted avg       0.73      0.73      0.73     12992\n",
      "\n"
     ]
    }
   ],
   "source": [
    "# Accuracy for Degree \n",
    "\n",
    "from sklearn.metrics import classification_report \n",
    "y_pred3 = y_pred[:,2]\n",
    "y_test3 = y_test.loc[:,\"program_name\"]\n",
    "print(classification_report(y_pred3, y_test3))"
   ]
  },
  {
   "cell_type": "code",
   "execution_count": 47,
   "metadata": {
    "execution": {
     "iopub.execute_input": "2023-04-04T15:12:13.008682Z",
     "iopub.status.busy": "2023-04-04T15:12:13.007058Z",
     "iopub.status.idle": "2023-04-04T15:12:13.017950Z",
     "shell.execute_reply": "2023-04-04T15:12:13.016642Z",
     "shell.execute_reply.started": "2023-04-04T15:12:13.008618Z"
    },
    "trusted": true
   },
   "outputs": [
    {
     "data": {
      "text/plain": [
       "10.764470443349754"
      ]
     },
     "execution_count": 47,
     "metadata": {},
     "output_type": "execute_result"
    }
   ],
   "source": [
    "mean_absolute_error(y_pred3, y_test3)"
   ]
  },
  {
   "cell_type": "code",
   "execution_count": 48,
   "metadata": {
    "execution": {
     "iopub.execute_input": "2023-04-04T15:08:24.094829Z",
     "iopub.status.busy": "2023-04-04T15:08:24.094341Z",
     "iopub.status.idle": "2023-04-04T15:08:24.104976Z",
     "shell.execute_reply": "2023-04-04T15:08:24.103337Z",
     "shell.execute_reply.started": "2023-04-04T15:08:24.094789Z"
    },
    "trusted": true
   },
   "outputs": [
    {
     "data": {
      "text/plain": [
       "0.7253694581280788"
      ]
     },
     "execution_count": 48,
     "metadata": {},
     "output_type": "execute_result"
    }
   ],
   "source": [
    "from sklearn.metrics import accuracy_score\n",
    "Accuracy3 = accuracy_score(y_pred3, y_test3)\n",
    "Accuracy3"
   ]
  },
  {
   "cell_type": "code",
   "execution_count": 49,
   "metadata": {
    "execution": {
     "iopub.execute_input": "2023-04-04T15:15:25.415825Z",
     "iopub.status.busy": "2023-04-04T15:15:25.414454Z",
     "iopub.status.idle": "2023-04-04T15:15:25.423490Z",
     "shell.execute_reply": "2023-04-04T15:15:25.422355Z",
     "shell.execute_reply.started": "2023-04-04T15:15:25.415773Z"
    },
    "trusted": true
   },
   "outputs": [
    {
     "data": {
      "text/plain": [
       "0.7864839901477833"
      ]
     },
     "execution_count": 49,
     "metadata": {},
     "output_type": "execute_result"
    }
   ],
   "source": [
    "# total accuracy of the model\n",
    "\n",
    "Mean_Accuracy = (Accuracy1 + Accuracy2 + Accuracy3) / 3\n",
    "Mean_Accuracy"
   ]
  },
  {
   "cell_type": "markdown",
   "metadata": {},
   "source": [
    "**<span style=\"color:#006600;\">Here we evaluate our model and find that it is really good and a realistic model. Firstly, we extract the individual Accuracy of the target data and then conclude the mean accuracy of the target data. </span>**\n",
    "\n",
    "**<span style=\"color:#fffff;\">Accuracy of Institute Name - 75.3%</span>**\n",
    "\n",
    "**<span style=\"color:#fffff;\">Accuracy of Program Name - 75.6%</span>**\n",
    "\n",
    "**<span style=\"color:#fffff;\">Accuracy of degree - 93.8%</span>**\n",
    "\n",
    "**<span style=\"color:#006600;\">After calculating the individual accuracy, we will find out the total or mean accuracy of the model.</span>**\n",
    "\n",
    "**<span style=\"color:#fffff;\">Accuracy of the Model - 78%</span>**\n",
    "\n",
    "***"
   ]
  },
  {
   "cell_type": "markdown",
   "metadata": {},
   "source": [
    "# <h1 style='background:#000099; border:0; color:white; padding-top: 20px'><center>Prediction of College : IIT-NIT category wise cut-off data</center></h1> "
   ]
  },
  {
   "cell_type": "markdown",
   "metadata": {},
   "source": [
    "## **<span style=\"color:#ff3385;\">🔮 Prediction of Colleges</span>**\n",
    "\n",
    "The Colleges are predicted by the given featured dataset in which feature like Institute type, Round Number, Quota, Category, Opening Rank and Closing Rank is calculated to find the College, Branch and Degree."
   ]
  },
  {
   "cell_type": "code",
   "execution_count": 4,
   "metadata": {
    "execution": {
     "iopub.execute_input": "2023-04-04T15:15:34.282335Z",
     "iopub.status.busy": "2023-04-04T15:15:34.281936Z",
     "iopub.status.idle": "2023-04-04T15:15:34.413357Z",
     "shell.execute_reply": "2023-04-04T15:15:34.412179Z",
     "shell.execute_reply.started": "2023-04-04T15:15:34.282303Z"
    },
    "trusted": true
   },
   "outputs": [
    {
     "data": {
      "text/html": [
       "<div>\n",
       "<style scoped>\n",
       "    .dataframe tbody tr th:only-of-type {\n",
       "        vertical-align: middle;\n",
       "    }\n",
       "\n",
       "    .dataframe tbody tr th {\n",
       "        vertical-align: top;\n",
       "    }\n",
       "\n",
       "    .dataframe thead th {\n",
       "        text-align: right;\n",
       "    }\n",
       "</style>\n",
       "<table border=\"1\" class=\"dataframe\">\n",
       "  <thead>\n",
       "    <tr style=\"text-align: right;\">\n",
       "      <th></th>\n",
       "      <th>Unnamed: 0</th>\n",
       "      <th>Unnamed: 0.1</th>\n",
       "      <th>year</th>\n",
       "      <th>institute_type</th>\n",
       "      <th>round_no</th>\n",
       "      <th>quota</th>\n",
       "      <th>pool</th>\n",
       "      <th>institute_short</th>\n",
       "      <th>program_name</th>\n",
       "      <th>program_duration</th>\n",
       "      <th>degree_short</th>\n",
       "      <th>category</th>\n",
       "      <th>opening_rank</th>\n",
       "      <th>closing_rank</th>\n",
       "      <th>is_preparatory</th>\n",
       "    </tr>\n",
       "  </thead>\n",
       "  <tbody>\n",
       "    <tr>\n",
       "      <th>0</th>\n",
       "      <td>0</td>\n",
       "      <td>0</td>\n",
       "      <td>2016</td>\n",
       "      <td>IIT</td>\n",
       "      <td>6</td>\n",
       "      <td>AI</td>\n",
       "      <td>Gender-Neutral</td>\n",
       "      <td>IIT-Bombay</td>\n",
       "      <td>Aerospace Engineering</td>\n",
       "      <td>4 Years</td>\n",
       "      <td>B.Tech</td>\n",
       "      <td>GEN</td>\n",
       "      <td>838</td>\n",
       "      <td>1841</td>\n",
       "      <td>0</td>\n",
       "    </tr>\n",
       "    <tr>\n",
       "      <th>1</th>\n",
       "      <td>1</td>\n",
       "      <td>1</td>\n",
       "      <td>2016</td>\n",
       "      <td>IIT</td>\n",
       "      <td>6</td>\n",
       "      <td>AI</td>\n",
       "      <td>Gender-Neutral</td>\n",
       "      <td>IIT-Bombay</td>\n",
       "      <td>Aerospace Engineering</td>\n",
       "      <td>4 Years</td>\n",
       "      <td>B.Tech</td>\n",
       "      <td>OBC-NCL</td>\n",
       "      <td>408</td>\n",
       "      <td>1098</td>\n",
       "      <td>0</td>\n",
       "    </tr>\n",
       "    <tr>\n",
       "      <th>2</th>\n",
       "      <td>2</td>\n",
       "      <td>2</td>\n",
       "      <td>2016</td>\n",
       "      <td>IIT</td>\n",
       "      <td>6</td>\n",
       "      <td>AI</td>\n",
       "      <td>Gender-Neutral</td>\n",
       "      <td>IIT-Bombay</td>\n",
       "      <td>Aerospace Engineering</td>\n",
       "      <td>4 Years</td>\n",
       "      <td>B.Tech</td>\n",
       "      <td>SC</td>\n",
       "      <td>297</td>\n",
       "      <td>468</td>\n",
       "      <td>0</td>\n",
       "    </tr>\n",
       "    <tr>\n",
       "      <th>3</th>\n",
       "      <td>3</td>\n",
       "      <td>3</td>\n",
       "      <td>2016</td>\n",
       "      <td>IIT</td>\n",
       "      <td>6</td>\n",
       "      <td>AI</td>\n",
       "      <td>Gender-Neutral</td>\n",
       "      <td>IIT-Bombay</td>\n",
       "      <td>Aerospace Engineering</td>\n",
       "      <td>4 Years</td>\n",
       "      <td>B.Tech</td>\n",
       "      <td>ST</td>\n",
       "      <td>79</td>\n",
       "      <td>145</td>\n",
       "      <td>0</td>\n",
       "    </tr>\n",
       "    <tr>\n",
       "      <th>4</th>\n",
       "      <td>4</td>\n",
       "      <td>4</td>\n",
       "      <td>2016</td>\n",
       "      <td>IIT</td>\n",
       "      <td>6</td>\n",
       "      <td>AI</td>\n",
       "      <td>Gender-Neutral</td>\n",
       "      <td>IIT-Bombay</td>\n",
       "      <td>Aerospace Engineering</td>\n",
       "      <td>4 Years</td>\n",
       "      <td>B.Tech</td>\n",
       "      <td>GEN-PWD</td>\n",
       "      <td>94</td>\n",
       "      <td>94</td>\n",
       "      <td>0</td>\n",
       "    </tr>\n",
       "  </tbody>\n",
       "</table>\n",
       "</div>"
      ],
      "text/plain": [
       "   Unnamed: 0  Unnamed: 0.1  year institute_type  round_no quota  \\\n",
       "0           0             0  2016            IIT         6    AI   \n",
       "1           1             1  2016            IIT         6    AI   \n",
       "2           2             2  2016            IIT         6    AI   \n",
       "3           3             3  2016            IIT         6    AI   \n",
       "4           4             4  2016            IIT         6    AI   \n",
       "\n",
       "             pool institute_short           program_name program_duration  \\\n",
       "0  Gender-Neutral      IIT-Bombay  Aerospace Engineering          4 Years   \n",
       "1  Gender-Neutral      IIT-Bombay  Aerospace Engineering          4 Years   \n",
       "2  Gender-Neutral      IIT-Bombay  Aerospace Engineering          4 Years   \n",
       "3  Gender-Neutral      IIT-Bombay  Aerospace Engineering          4 Years   \n",
       "4  Gender-Neutral      IIT-Bombay  Aerospace Engineering          4 Years   \n",
       "\n",
       "  degree_short category  opening_rank  closing_rank  is_preparatory  \n",
       "0       B.Tech      GEN           838          1841               0  \n",
       "1       B.Tech  OBC-NCL           408          1098               0  \n",
       "2       B.Tech       SC           297           468               0  \n",
       "3       B.Tech       ST            79           145               0  \n",
       "4       B.Tech  GEN-PWD            94            94               0  "
      ]
     },
     "execution_count": 4,
     "metadata": {},
     "output_type": "execute_result"
    }
   ],
   "source": [
    "pred_College = pd.read_csv(\"iit-and-nit-colleges-admission-criteria-version-2.csv\")\n",
    "pred_College.head()"
   ]
  },
  {
   "cell_type": "markdown",
   "metadata": {},
   "source": [
    "## **<span style=\"color:#a300cc;\">🔁 Converting object values into numerical form</span>**\n",
    "\n",
    "**institute_type** - IIT : 0, NIT : 1\n",
    "\n",
    "**Quota** :-\n",
    "\n",
    "AI : All-India - 0\n",
    "\n",
    "HS : Home-State - 3\n",
    "\n",
    "OS : Other-State - 6\n",
    "\n",
    "AP : Andhra Pradesh - 1\n",
    "\n",
    "GO : Goa - 2\n",
    "\n",
    "JK : Jammu & Kashmir - 4\n",
    "\n",
    "LA : Ladakh - 5\n",
    "\n",
    "**Pool** - Gender-Neutral : 0, Female-only : 1\n",
    "\n",
    "**Category** :-\n",
    "\n",
    "GEN : General - 0\n",
    "\n",
    "OBC-NCL : Other Backward Classes-Non Creamy Layer - 4\n",
    "\n",
    "SC : Scheduled Castes - 6\n",
    "\n",
    "ST : Scheduled Tribes - 8\n",
    "\n",
    "GEN-PWD : General & Persons with Disabilities - 3\n",
    "\n",
    "OBC-NCL-PWD : Other Backward Classes & Persons with Disabilities - 5\n",
    "\n",
    "SC-PWD : Scheduled Castes & Persons with Disabilities - 7\n",
    "\n",
    "ST-PWD : Scheduled Tribes & Persons with Disabilities - 9\n",
    "\n",
    "GEN-EWS : General & Economically Weaker Section - 1\n",
    "\n",
    "GEN-EWS-PWD : General & Economically Weaker Section & Persons with Disability - 2"
   ]
  },
  {
   "cell_type": "code",
   "execution_count": 52,
   "metadata": {
    "execution": {
     "iopub.execute_input": "2023-04-04T15:15:38.078563Z",
     "iopub.status.busy": "2023-04-04T15:15:38.078100Z",
     "iopub.status.idle": "2023-04-04T15:15:38.118342Z",
     "shell.execute_reply": "2023-04-04T15:15:38.117044Z",
     "shell.execute_reply.started": "2023-04-04T15:15:38.078525Z"
    },
    "trusted": true
   },
   "outputs": [
    {
     "data": {
      "text/plain": [
       "array([0, 1], dtype=int64)"
      ]
     },
     "execution_count": 52,
     "metadata": {},
     "output_type": "execute_result"
    }
   ],
   "source": [
    "# Changing Institute type\n",
    "\n",
    "pred_College['institute_type'] = [0 if x == 'IIT' else 1 for x in pred_College['institute_type']]\n",
    "pred_College['institute_type'].unique()"
   ]
  },
  {
   "cell_type": "code",
   "execution_count": 53,
   "metadata": {
    "execution": {
     "iopub.execute_input": "2023-04-04T15:15:39.187481Z",
     "iopub.status.busy": "2023-04-04T15:15:39.187092Z",
     "iopub.status.idle": "2023-04-04T15:15:39.214754Z",
     "shell.execute_reply": "2023-04-04T15:15:39.213524Z",
     "shell.execute_reply.started": "2023-04-04T15:15:39.187450Z"
    },
    "trusted": true
   },
   "outputs": [
    {
     "data": {
      "text/plain": [
       "array([0, 3, 6, 1, 2, 4, 5])"
      ]
     },
     "execution_count": 53,
     "metadata": {},
     "output_type": "execute_result"
    }
   ],
   "source": [
    "# Labeling the quota values\n",
    "\n",
    "le = LabelEncoder()\n",
    "pred_College['quota'] = le.fit_transform(pred_College['quota'])\n",
    "pred_College['quota'].unique()"
   ]
  },
  {
   "cell_type": "code",
   "execution_count": 54,
   "metadata": {
    "execution": {
     "iopub.execute_input": "2023-04-04T15:15:41.100734Z",
     "iopub.status.busy": "2023-04-04T15:15:41.100338Z",
     "iopub.status.idle": "2023-04-04T15:15:41.142770Z",
     "shell.execute_reply": "2023-04-04T15:15:41.141772Z",
     "shell.execute_reply.started": "2023-04-04T15:15:41.100703Z"
    },
    "trusted": true
   },
   "outputs": [
    {
     "data": {
      "text/plain": [
       "array([0, 1], dtype=int64)"
      ]
     },
     "execution_count": 54,
     "metadata": {},
     "output_type": "execute_result"
    }
   ],
   "source": [
    "# changing the pool values\n",
    "\n",
    "pred_College['pool'] = [0 if x == 'Gender-Neutral' else 1 for x in pred_College['pool']]\n",
    "pred_College['pool'].unique()"
   ]
  },
  {
   "cell_type": "code",
   "execution_count": 55,
   "metadata": {
    "execution": {
     "iopub.execute_input": "2023-04-04T15:15:42.667264Z",
     "iopub.status.busy": "2023-04-04T15:15:42.666862Z",
     "iopub.status.idle": "2023-04-04T15:15:42.693589Z",
     "shell.execute_reply": "2023-04-04T15:15:42.692225Z",
     "shell.execute_reply.started": "2023-04-04T15:15:42.667220Z"
    },
    "trusted": true
   },
   "outputs": [
    {
     "data": {
      "text/plain": [
       "array([0, 4, 6, 8, 3, 5, 7, 9, 1, 2])"
      ]
     },
     "execution_count": 55,
     "metadata": {},
     "output_type": "execute_result"
    }
   ],
   "source": [
    "# Labeling the categories\n",
    "\n",
    "pred_College['category']= le.fit_transform(pred_College['category'])\n",
    "pred_College['category'].unique()"
   ]
  },
  {
   "cell_type": "code",
   "execution_count": 56,
   "metadata": {
    "execution": {
     "iopub.execute_input": "2023-04-04T15:15:45.401096Z",
     "iopub.status.busy": "2023-04-04T15:15:45.400570Z",
     "iopub.status.idle": "2023-04-04T15:15:45.413086Z",
     "shell.execute_reply": "2023-04-04T15:15:45.411880Z",
     "shell.execute_reply.started": "2023-04-04T15:15:45.401050Z"
    },
    "trusted": true
   },
   "outputs": [],
   "source": [
    "# Selecting the target data\n",
    "\n",
    "y1 = pred_College[['institute_short', 'degree_short', 'program_name']]"
   ]
  },
  {
   "cell_type": "code",
   "execution_count": 57,
   "metadata": {
    "execution": {
     "iopub.execute_input": "2023-04-04T15:15:46.727122Z",
     "iopub.status.busy": "2023-04-04T15:15:46.725964Z",
     "iopub.status.idle": "2023-04-04T15:15:46.734734Z",
     "shell.execute_reply": "2023-04-04T15:15:46.733309Z",
     "shell.execute_reply.started": "2023-04-04T15:15:46.727070Z"
    },
    "trusted": true
   },
   "outputs": [],
   "source": [
    "# Selecting the featured data\n",
    "\n",
    "X1 = pred_College[['category', 'quota', 'pool', 'institute_type', 'round_no',\n",
    "       'opening_rank', 'closing_rank']]"
   ]
  },
  {
   "cell_type": "markdown",
   "metadata": {},
   "source": [
    "## **<span style=\"color:#ff3385;\">💔 Splitting the training and testing data </span>**"
   ]
  },
  {
   "cell_type": "code",
   "execution_count": 58,
   "metadata": {
    "execution": {
     "iopub.execute_input": "2023-04-04T15:15:50.301264Z",
     "iopub.status.busy": "2023-04-04T15:15:50.300847Z",
     "iopub.status.idle": "2023-04-04T15:15:50.325422Z",
     "shell.execute_reply": "2023-04-04T15:15:50.324464Z",
     "shell.execute_reply.started": "2023-04-04T15:15:50.301217Z"
    },
    "trusted": true
   },
   "outputs": [],
   "source": [
    "# Spilliting the data into training and testing dataset\n",
    "\n",
    "from sklearn.model_selection import train_test_split\n",
    "X1_train, X1_test, y1_train, y1_test = train_test_split(X1, y1, train_size = 0.8)"
   ]
  },
  {
   "cell_type": "code",
   "execution_count": 59,
   "metadata": {
    "execution": {
     "iopub.execute_input": "2023-04-04T15:15:55.742356Z",
     "iopub.status.busy": "2023-04-04T15:15:55.741176Z",
     "iopub.status.idle": "2023-04-04T15:15:55.749728Z",
     "shell.execute_reply": "2023-04-04T15:15:55.748579Z",
     "shell.execute_reply.started": "2023-04-04T15:15:55.742311Z"
    },
    "trusted": true
   },
   "outputs": [
    {
     "data": {
      "text/plain": [
       "array([[51966, 7],\n",
       "       [12992, 7],\n",
       "       [51966, 3],\n",
       "       [12992, 3]], dtype=object)"
      ]
     },
     "execution_count": 59,
     "metadata": {},
     "output_type": "execute_result"
    }
   ],
   "source": [
    "a1 = np.array([X1_train.shape, X1_test.shape, y1_train.shape, y1_test.shape], dtype = 'object')\n",
    "a1"
   ]
  },
  {
   "cell_type": "markdown",
   "metadata": {},
   "source": [
    "## **<span style=\"color:#ff3385;\">🤖 Generating the model</span>**"
   ]
  },
  {
   "cell_type": "code",
   "execution_count": 60,
   "metadata": {
    "execution": {
     "iopub.execute_input": "2023-04-04T15:15:58.668142Z",
     "iopub.status.busy": "2023-04-04T15:15:58.667220Z",
     "iopub.status.idle": "2023-04-04T15:15:58.673772Z",
     "shell.execute_reply": "2023-04-04T15:15:58.672573Z",
     "shell.execute_reply.started": "2023-04-04T15:15:58.668089Z"
    },
    "trusted": true
   },
   "outputs": [],
   "source": [
    "# Importing library for mdoel generation\n",
    "\n",
    "from sklearn.neighbors import KNeighborsClassifier\n",
    "model1 = KNeighborsClassifier()"
   ]
  },
  {
   "cell_type": "code",
   "execution_count": 71,
   "metadata": {},
   "outputs": [
    {
     "data": {
      "text/html": [
       "<div>\n",
       "<style scoped>\n",
       "    .dataframe tbody tr th:only-of-type {\n",
       "        vertical-align: middle;\n",
       "    }\n",
       "\n",
       "    .dataframe tbody tr th {\n",
       "        vertical-align: top;\n",
       "    }\n",
       "\n",
       "    .dataframe thead th {\n",
       "        text-align: right;\n",
       "    }\n",
       "</style>\n",
       "<table border=\"1\" class=\"dataframe\">\n",
       "  <thead>\n",
       "    <tr style=\"text-align: right;\">\n",
       "      <th></th>\n",
       "      <th>institute_short</th>\n",
       "      <th>degree_short</th>\n",
       "      <th>program_name</th>\n",
       "    </tr>\n",
       "  </thead>\n",
       "  <tbody>\n",
       "    <tr>\n",
       "      <th>21328</th>\n",
       "      <td>IIT-Jodhpur</td>\n",
       "      <td>B.Tech</td>\n",
       "      <td>Computer Science and Engineering</td>\n",
       "    </tr>\n",
       "    <tr>\n",
       "      <th>64630</th>\n",
       "      <td>NIT-Srinagar</td>\n",
       "      <td>B.Tech</td>\n",
       "      <td>Civil Engineering</td>\n",
       "    </tr>\n",
       "    <tr>\n",
       "      <th>21986</th>\n",
       "      <td>IIT-Bhilai</td>\n",
       "      <td>B.Tech</td>\n",
       "      <td>Electrical Engineering</td>\n",
       "    </tr>\n",
       "    <tr>\n",
       "      <th>49332</th>\n",
       "      <td>NIT-Delhi</td>\n",
       "      <td>B.Tech</td>\n",
       "      <td>Electronics and Communication Engineering</td>\n",
       "    </tr>\n",
       "    <tr>\n",
       "      <th>5713</th>\n",
       "      <td>IIT-(BHU) Varanasi</td>\n",
       "      <td>B.Tech + M.Tech (IDD)</td>\n",
       "      <td>Materials Science and Technology</td>\n",
       "    </tr>\n",
       "    <tr>\n",
       "      <th>...</th>\n",
       "      <td>...</td>\n",
       "      <td>...</td>\n",
       "      <td>...</td>\n",
       "    </tr>\n",
       "    <tr>\n",
       "      <th>49212</th>\n",
       "      <td>NIT-Delhi</td>\n",
       "      <td>B.Tech</td>\n",
       "      <td>Electrical and Electronics Engineering</td>\n",
       "    </tr>\n",
       "    <tr>\n",
       "      <th>33140</th>\n",
       "      <td>NIT-Surat</td>\n",
       "      <td>B.Tech</td>\n",
       "      <td>Computer Engineering</td>\n",
       "    </tr>\n",
       "    <tr>\n",
       "      <th>30372</th>\n",
       "      <td>IIT-Kanpur</td>\n",
       "      <td>B.Tech</td>\n",
       "      <td>Civil Engineering</td>\n",
       "    </tr>\n",
       "    <tr>\n",
       "      <th>13432</th>\n",
       "      <td>IIT-Kharagpur</td>\n",
       "      <td>B.Tech</td>\n",
       "      <td>Ocean Engineering and Naval Architecture</td>\n",
       "    </tr>\n",
       "    <tr>\n",
       "      <th>1285</th>\n",
       "      <td>IIT-Delhi</td>\n",
       "      <td>B.Tech</td>\n",
       "      <td>Textile Technology</td>\n",
       "    </tr>\n",
       "  </tbody>\n",
       "</table>\n",
       "<p>51966 rows × 3 columns</p>\n",
       "</div>"
      ],
      "text/plain": [
       "          institute_short           degree_short  \\\n",
       "21328         IIT-Jodhpur                 B.Tech   \n",
       "64630        NIT-Srinagar                 B.Tech   \n",
       "21986          IIT-Bhilai                 B.Tech   \n",
       "49332           NIT-Delhi                 B.Tech   \n",
       "5713   IIT-(BHU) Varanasi  B.Tech + M.Tech (IDD)   \n",
       "...                   ...                    ...   \n",
       "49212           NIT-Delhi                 B.Tech   \n",
       "33140           NIT-Surat                 B.Tech   \n",
       "30372          IIT-Kanpur                 B.Tech   \n",
       "13432       IIT-Kharagpur                 B.Tech   \n",
       "1285            IIT-Delhi                 B.Tech   \n",
       "\n",
       "                                    program_name  \n",
       "21328           Computer Science and Engineering  \n",
       "64630                          Civil Engineering  \n",
       "21986                     Electrical Engineering  \n",
       "49332  Electronics and Communication Engineering  \n",
       "5713            Materials Science and Technology  \n",
       "...                                          ...  \n",
       "49212     Electrical and Electronics Engineering  \n",
       "33140                       Computer Engineering  \n",
       "30372                          Civil Engineering  \n",
       "13432   Ocean Engineering and Naval Architecture  \n",
       "1285                          Textile Technology  \n",
       "\n",
       "[51966 rows x 3 columns]"
      ]
     },
     "execution_count": 71,
     "metadata": {},
     "output_type": "execute_result"
    }
   ],
   "source": [
    "y1_train"
   ]
  },
  {
   "cell_type": "code",
   "execution_count": 61,
   "metadata": {
    "execution": {
     "iopub.execute_input": "2023-04-04T15:16:00.160386Z",
     "iopub.status.busy": "2023-04-04T15:16:00.159670Z",
     "iopub.status.idle": "2023-04-04T15:16:01.229165Z",
     "shell.execute_reply": "2023-04-04T15:16:01.227990Z",
     "shell.execute_reply.started": "2023-04-04T15:16:00.160349Z"
    },
    "trusted": true
   },
   "outputs": [
    {
     "data": {
      "text/html": [
       "<style>#sk-container-id-2 {color: black;}#sk-container-id-2 pre{padding: 0;}#sk-container-id-2 div.sk-toggleable {background-color: white;}#sk-container-id-2 label.sk-toggleable__label {cursor: pointer;display: block;width: 100%;margin-bottom: 0;padding: 0.3em;box-sizing: border-box;text-align: center;}#sk-container-id-2 label.sk-toggleable__label-arrow:before {content: \"▸\";float: left;margin-right: 0.25em;color: #696969;}#sk-container-id-2 label.sk-toggleable__label-arrow:hover:before {color: black;}#sk-container-id-2 div.sk-estimator:hover label.sk-toggleable__label-arrow:before {color: black;}#sk-container-id-2 div.sk-toggleable__content {max-height: 0;max-width: 0;overflow: hidden;text-align: left;background-color: #f0f8ff;}#sk-container-id-2 div.sk-toggleable__content pre {margin: 0.2em;color: black;border-radius: 0.25em;background-color: #f0f8ff;}#sk-container-id-2 input.sk-toggleable__control:checked~div.sk-toggleable__content {max-height: 200px;max-width: 100%;overflow: auto;}#sk-container-id-2 input.sk-toggleable__control:checked~label.sk-toggleable__label-arrow:before {content: \"▾\";}#sk-container-id-2 div.sk-estimator input.sk-toggleable__control:checked~label.sk-toggleable__label {background-color: #d4ebff;}#sk-container-id-2 div.sk-label input.sk-toggleable__control:checked~label.sk-toggleable__label {background-color: #d4ebff;}#sk-container-id-2 input.sk-hidden--visually {border: 0;clip: rect(1px 1px 1px 1px);clip: rect(1px, 1px, 1px, 1px);height: 1px;margin: -1px;overflow: hidden;padding: 0;position: absolute;width: 1px;}#sk-container-id-2 div.sk-estimator {font-family: monospace;background-color: #f0f8ff;border: 1px dotted black;border-radius: 0.25em;box-sizing: border-box;margin-bottom: 0.5em;}#sk-container-id-2 div.sk-estimator:hover {background-color: #d4ebff;}#sk-container-id-2 div.sk-parallel-item::after {content: \"\";width: 100%;border-bottom: 1px solid gray;flex-grow: 1;}#sk-container-id-2 div.sk-label:hover label.sk-toggleable__label {background-color: #d4ebff;}#sk-container-id-2 div.sk-serial::before {content: \"\";position: absolute;border-left: 1px solid gray;box-sizing: border-box;top: 0;bottom: 0;left: 50%;z-index: 0;}#sk-container-id-2 div.sk-serial {display: flex;flex-direction: column;align-items: center;background-color: white;padding-right: 0.2em;padding-left: 0.2em;position: relative;}#sk-container-id-2 div.sk-item {position: relative;z-index: 1;}#sk-container-id-2 div.sk-parallel {display: flex;align-items: stretch;justify-content: center;background-color: white;position: relative;}#sk-container-id-2 div.sk-item::before, #sk-container-id-2 div.sk-parallel-item::before {content: \"\";position: absolute;border-left: 1px solid gray;box-sizing: border-box;top: 0;bottom: 0;left: 50%;z-index: -1;}#sk-container-id-2 div.sk-parallel-item {display: flex;flex-direction: column;z-index: 1;position: relative;background-color: white;}#sk-container-id-2 div.sk-parallel-item:first-child::after {align-self: flex-end;width: 50%;}#sk-container-id-2 div.sk-parallel-item:last-child::after {align-self: flex-start;width: 50%;}#sk-container-id-2 div.sk-parallel-item:only-child::after {width: 0;}#sk-container-id-2 div.sk-dashed-wrapped {border: 1px dashed gray;margin: 0 0.4em 0.5em 0.4em;box-sizing: border-box;padding-bottom: 0.4em;background-color: white;}#sk-container-id-2 div.sk-label label {font-family: monospace;font-weight: bold;display: inline-block;line-height: 1.2em;}#sk-container-id-2 div.sk-label-container {text-align: center;}#sk-container-id-2 div.sk-container {/* jupyter's `normalize.less` sets `[hidden] { display: none; }` but bootstrap.min.css set `[hidden] { display: none !important; }` so we also need the `!important` here to be able to override the default hidden behavior on the sphinx rendered scikit-learn.org. See: https://github.com/scikit-learn/scikit-learn/issues/21755 */display: inline-block !important;position: relative;}#sk-container-id-2 div.sk-text-repr-fallback {display: none;}</style><div id=\"sk-container-id-2\" class=\"sk-top-container\"><div class=\"sk-text-repr-fallback\"><pre>KNeighborsClassifier()</pre><b>In a Jupyter environment, please rerun this cell to show the HTML representation or trust the notebook. <br />On GitHub, the HTML representation is unable to render, please try loading this page with nbviewer.org.</b></div><div class=\"sk-container\" hidden><div class=\"sk-item\"><div class=\"sk-estimator sk-toggleable\"><input class=\"sk-toggleable__control sk-hidden--visually\" id=\"sk-estimator-id-2\" type=\"checkbox\" checked><label for=\"sk-estimator-id-2\" class=\"sk-toggleable__label sk-toggleable__label-arrow\">KNeighborsClassifier</label><div class=\"sk-toggleable__content\"><pre>KNeighborsClassifier()</pre></div></div></div></div></div>"
      ],
      "text/plain": [
       "KNeighborsClassifier()"
      ]
     },
     "execution_count": 61,
     "metadata": {},
     "output_type": "execute_result"
    }
   ],
   "source": [
    "model1.fit(X1_train, y1_train)"
   ]
  },
  {
   "cell_type": "code",
   "execution_count": 8,
   "metadata": {
    "execution": {
     "iopub.execute_input": "2023-04-04T15:16:02.495425Z",
     "iopub.status.busy": "2023-04-04T15:16:02.495004Z",
     "iopub.status.idle": "2023-04-04T15:16:02.542064Z",
     "shell.execute_reply": "2023-04-04T15:16:02.541266Z",
     "shell.execute_reply.started": "2023-04-04T15:16:02.495391Z"
    },
    "trusted": true
   },
   "outputs": [
    {
     "ename": "NameError",
     "evalue": "name 'model1' is not defined",
     "output_type": "error",
     "traceback": [
      "\u001b[1;31m---------------------------------------------------------------------------\u001b[0m",
      "\u001b[1;31mNameError\u001b[0m                                 Traceback (most recent call last)",
      "Cell \u001b[1;32mIn[8], line 3\u001b[0m\n\u001b[0;32m      1\u001b[0m \u001b[38;5;66;03m# predicting the dataset\u001b[39;00m\n\u001b[1;32m----> 3\u001b[0m y_pred1 \u001b[38;5;241m=\u001b[39m \u001b[43mmodel1\u001b[49m\u001b[38;5;241m.\u001b[39mpredict(X1_test)\n\u001b[0;32m      4\u001b[0m y_pred1\n",
      "\u001b[1;31mNameError\u001b[0m: name 'model1' is not defined"
     ]
    }
   ],
   "source": [
    "# predicting the dataset\n",
    "\n",
    "y_pred1 = model1.predict(X1_test)\n",
    "y_pred1"
   ]
  },
  {
   "cell_type": "code",
   "execution_count": 7,
   "metadata": {
    "execution": {
     "iopub.execute_input": "2023-04-04T15:16:09.200006Z",
     "iopub.status.busy": "2023-04-04T15:16:09.198880Z",
     "iopub.status.idle": "2023-04-04T15:16:09.215204Z",
     "shell.execute_reply": "2023-04-04T15:16:09.213824Z",
     "shell.execute_reply.started": "2023-04-04T15:16:09.199957Z"
    },
    "trusted": true
   },
   "outputs": [
    {
     "ename": "NameError",
     "evalue": "name 'model1' is not defined",
     "output_type": "error",
     "traceback": [
      "\u001b[1;31m---------------------------------------------------------------------------\u001b[0m",
      "\u001b[1;31mNameError\u001b[0m                                 Traceback (most recent call last)",
      "Cell \u001b[1;32mIn[7], line 3\u001b[0m\n\u001b[0;32m      1\u001b[0m \u001b[38;5;66;03m# prediction\u001b[39;00m\n\u001b[1;32m----> 3\u001b[0m Prediction1 \u001b[38;5;241m=\u001b[39m pd\u001b[38;5;241m.\u001b[39mDataFrame(\u001b[43mmodel1\u001b[49m\u001b[38;5;241m.\u001b[39mpredict([[\u001b[38;5;241m0\u001b[39m, \u001b[38;5;241m0\u001b[39m, \u001b[38;5;241m0\u001b[39m, \u001b[38;5;241m1\u001b[39m, \u001b[38;5;241m6\u001b[39m, \u001b[38;5;241m1000\u001b[39m, \u001b[38;5;241m2841\u001b[39m], [\u001b[38;5;241m5\u001b[39m, \u001b[38;5;241m5\u001b[39m, \u001b[38;5;241m1\u001b[39m, \u001b[38;5;241m0\u001b[39m, \u001b[38;5;241m2\u001b[39m, \u001b[38;5;241m1000\u001b[39m, \u001b[38;5;241m1841\u001b[39m]]), columns \u001b[38;5;241m=\u001b[39m [[\u001b[38;5;124m'\u001b[39m\u001b[38;5;124mCollege\u001b[39m\u001b[38;5;124m'\u001b[39m, \u001b[38;5;124m'\u001b[39m\u001b[38;5;124mBranch\u001b[39m\u001b[38;5;124m'\u001b[39m, \u001b[38;5;124m'\u001b[39m\u001b[38;5;124mDegree\u001b[39m\u001b[38;5;124m'\u001b[39m]])\n\u001b[0;32m      4\u001b[0m Prediction1\n\u001b[0;32m      5\u001b[0m \u001b[38;5;66;03m# Prediction1 = model1.predict([[0, 1, 10, 10, 10, 5000, 2841]])\u001b[39;00m\n\u001b[0;32m      6\u001b[0m \u001b[38;5;66;03m# print(Prediction1)\u001b[39;00m\n",
      "\u001b[1;31mNameError\u001b[0m: name 'model1' is not defined"
     ]
    }
   ],
   "source": [
    "# prediction\n",
    "\n",
    "Prediction1 = pd.DataFrame(model1.predict([[0, 0, 0, 1, 6, 1000, 2841], [5, 5, 1, 0, 2, 1000, 1841]]), columns = [['College', 'Branch', 'Degree']])\n",
    "Prediction1\n",
    "# Prediction1 = model1.predict([[0, 1, 10, 10, 10, 5000, 2841]])\n",
    "# print(Prediction1)"
   ]
  },
  {
   "cell_type": "markdown",
   "metadata": {},
   "source": [
    "# **<span style=\"color:#ff3385;\">📲 Pickling the model for the deployment</span>**"
   ]
  },
  {
   "cell_type": "code",
   "execution_count": 5,
   "metadata": {
    "execution": {
     "iopub.execute_input": "2023-04-04T15:16:53.974404Z",
     "iopub.status.busy": "2023-04-04T15:16:53.973982Z",
     "iopub.status.idle": "2023-04-04T15:16:53.979455Z",
     "shell.execute_reply": "2023-04-04T15:16:53.978329Z",
     "shell.execute_reply.started": "2023-04-04T15:16:53.974369Z"
    },
    "trusted": true
   },
   "outputs": [],
   "source": [
    "import pickle"
   ]
  },
  {
   "cell_type": "code",
   "execution_count": 6,
   "metadata": {
    "execution": {
     "iopub.execute_input": "2023-04-04T15:16:59.310949Z",
     "iopub.status.busy": "2023-04-04T15:16:59.310564Z",
     "iopub.status.idle": "2023-04-04T15:16:59.581991Z",
     "shell.execute_reply": "2023-04-04T15:16:59.580732Z",
     "shell.execute_reply.started": "2023-04-04T15:16:59.310918Z"
    },
    "trusted": true
   },
   "outputs": [
    {
     "ename": "NameError",
     "evalue": "name 'model1' is not defined",
     "output_type": "error",
     "traceback": [
      "\u001b[1;31m---------------------------------------------------------------------------\u001b[0m",
      "\u001b[1;31mNameError\u001b[0m                                 Traceback (most recent call last)",
      "Cell \u001b[1;32mIn[6], line 1\u001b[0m\n\u001b[1;32m----> 1\u001b[0m pickle\u001b[38;5;241m.\u001b[39mdump(\u001b[43mmodel1\u001b[49m, \u001b[38;5;28mopen\u001b[39m(\u001b[38;5;124m\"\u001b[39m\u001b[38;5;124mmodel1.pkl\u001b[39m\u001b[38;5;124m\"\u001b[39m, \u001b[38;5;124m\"\u001b[39m\u001b[38;5;124mwb\u001b[39m\u001b[38;5;124m\"\u001b[39m))\n",
      "\u001b[1;31mNameError\u001b[0m: name 'model1' is not defined"
     ]
    }
   ],
   "source": [
    "pickle.dump(model1, open(\"model1.pkl\", \"wb\"))"
   ]
  },
  {
   "cell_type": "code",
   "execution_count": 67,
   "metadata": {
    "execution": {
     "iopub.execute_input": "2023-04-04T15:26:52.438069Z",
     "iopub.status.busy": "2023-04-04T15:26:52.437676Z",
     "iopub.status.idle": "2023-04-04T15:26:52.799740Z",
     "shell.execute_reply": "2023-04-04T15:26:52.798577Z",
     "shell.execute_reply.started": "2023-04-04T15:26:52.438037Z"
    },
    "trusted": true
   },
   "outputs": [
    {
     "name": "stdout",
     "output_type": "stream",
     "text": [
      "[['NIT-Rourkela' 'Int MSc.' 'Mathematics']]\n"
     ]
    }
   ],
   "source": [
    "loaded_model = pickle.load(open(\"model1.pkl\", 'rb'))\n",
    "result = loaded_model.predict([[1, 1, 10, 10, 10, 5000, 2841]])\n",
    "print(result)"
   ]
  },
  {
   "cell_type": "code",
   "execution_count": 68,
   "metadata": {},
   "outputs": [
    {
     "name": "stdout",
     "output_type": "stream",
     "text": [
      "[['IIT-Delhi' 'B.Tech' 'Computer Science and Engineering']]\n"
     ]
    }
   ],
   "source": [
    "result = loaded_model.predict([[0, 6, 0, 0, 0, 1000, 2841]])\n",
    "print(result)"
   ]
  },
  {
   "cell_type": "code",
   "execution_count": 30,
   "metadata": {},
   "outputs": [
    {
     "name": "stdout",
     "output_type": "stream",
     "text": [
      "Random Forest Performance:\n",
      "R2 Score: 0.908\n",
      "RMSE: 0.373\n",
      "\n",
      "Feature Importance:\n",
      "Rating: 0.747\n",
      "Infrastructure: 0.091\n",
      "Faculty: 0.080\n",
      "Academic: 0.079\n",
      "UG_fee: 0.002\n",
      "PG_fee: 0.000\n"
     ]
    },
    {
     "data": {
      "image/png": "[encoded data removed]",
      "text/plain": [
       "<Figure size 1000x600 with 1 Axes>"
      ]
     },
     "metadata": {},
     "output_type": "display_data"
    },
    {
     "name": "stdout",
     "output_type": "stream",
     "text": [
      "\n",
      "Predicted Placement Score: 8.75\n"
     ]
    }
   ],
   "source": [
    "import pandas as pd\n",
    "import numpy as np\n",
    "from sklearn.model_selection import train_test_split\n",
    "from sklearn.preprocessing import StandardScaler\n",
    "from sklearn.metrics import mean_squared_error, r2_score\n",
    "from sklearn.linear_model import LinearRegression\n",
    "from sklearn.ensemble import RandomForestRegressor\n",
    "import matplotlib.pyplot as plt\n",
    "\n",
    "# Load the data\n",
    "df = pd.read_csv(r'C:\\Users\\Mayank Rathore\\Desktop\\College-Predictor-System\\College_data_updated.csv')\n",
    "\n",
    "# Convert '--' to NaN\n",
    "df = df.replace('--', np.nan)\n",
    "\n",
    "# Convert all relevant columns to numeric\n",
    "numeric_columns = ['UG_fee', 'PG_fee', 'Rating', 'Academic', 'Faculty', 'Infrastructure', 'Placement']\n",
    "for col in numeric_columns:\n",
    "    df[col] = pd.to_numeric(df[col], errors='coerce')\n",
    "\n",
    "# Drop rows with NaN values in the target variable\n",
    "df = df.dropna(subset=['Placement'])\n",
    "\n",
    "# Select features\n",
    "features = ['College_Name','Rating', 'Academic', 'Faculty', 'Infrastructure', 'UG_fee', 'PG_fee']\n",
    "X = df[features].copy()  # Create a copy to avoid the warning\n",
    "y = df['Placement']\n",
    "\n",
    "# Handle missing values in features properly\n",
    "for column in features:\n",
    "    X.loc[:, column] = X[column].fillna(X[column].mean())\n",
    "\n",
    "# Split the data\n",
    "X_train, X_test, y_train, y_test = train_test_split(X, y, test_size=0.2, random_state=42)\n",
    "\n",
    "# Scale the features\n",
    "scaler = StandardScaler()\n",
    "X_train_scaled = scaler.fit_transform(X_train)\n",
    "X_test_scaled = scaler.transform(X_test)\n",
    "\n",
    "# Train Random Forest (since it performed better)\n",
    "rf_model = RandomForestRegressor(n_estimators=100, random_state=42)\n",
    "rf_model.fit(X_train_scaled, y_train)\n",
    "y_pred = rf_model.predict(X_test_scaled)\n",
    "\n",
    "# Print performance metrics\n",
    "print(\"Random Forest Performance:\")\n",
    "print(f'R2 Score: {r2_score(y_test, y_pred):.3f}')\n",
    "print(f'RMSE: {np.sqrt(mean_squared_error(y_test, y_pred)):.3f}\\n')\n",
    "\n",
    "# Feature importance analysis\n",
    "importance = rf_model.feature_importances_\n",
    "feat_importance = pd.DataFrame({\n",
    "    'Feature': features,\n",
    "    'Importance': importance\n",
    "})\n",
    "feat_importance = feat_importance.sort_values('Importance', ascending=False)\n",
    "\n",
    "print(\"Feature Importance:\")\n",
    "for idx, row in feat_importance.iterrows():\n",
    "    print(f\"{row['Feature']}: {row['Importance']:.3f}\")\n",
    "\n",
    "# Plot feature importance\n",
    "plt.figure(figsize=(10, 6))\n",
    "plt.bar(feat_importance['Feature'], feat_importance['Importance'])\n",
    "plt.xticks(rotation=45)\n",
    "plt.title('Feature Importance in Predicting Placement')\n",
    "plt.tight_layout()\n",
    "plt.show()\n",
    "\n",
    "# Function to make predictions for new data\n",
    "def predict_placement(new_data):\n",
    "    # Scale the new data\n",
    "    new_data_scaled = scaler.transform(new_data)\n",
    "    # Make prediction\n",
    "    prediction = rf_model.predict(new_data_scaled)\n",
    "    return prediction[0]\n",
    "\n",
    "# Example usage:\n",
    "new_college = pd.DataFrame([[8.5, 8.0, 7.5, 8.0, 50000, 60000]], \n",
    "                          columns=features)\n",
    "predicted_placement = predict_placement(new_college)\n",
    "print(f\"\\nPredicted Placement Score: {predicted_placement:.2f}\")"
   ]
  },
  {
   "cell_type": "code",
   "execution_count": 31,
   "metadata": {},
   "outputs": [
    {
     "name": "stdout",
     "output_type": "stream",
     "text": [
      "\n",
      "Example College Recommendations:\n",
      "\n",
      "Predicted Placement Score for your criteria: 8.75\n",
      "\n",
      "Top 5 Recommended Colleges based on placement scores:\n",
      "\n",
      "College Name | Placement Score | Rating | Academic Score\n",
      "------------------------------------------------------------\n",
      "Armed Forces Medical College   | 9.90 | 9.70 | 9.40\n",
      "Armed Forces Medical College   | 9.90 | 9.70 | 9.40\n",
      "SRM Institute of Hotel Management, Chennai  | 9.90 | 9.40 | 9.30\n",
      "Belagavi Institute of Medical Sciences  | 9.80 | 8.60 | 9.10\n",
      "Belagavi Institute of Medical Sciences  | 9.80 | 8.60 | 9.10\n",
      "\n",
      "Feature Importance:\n",
      "Rating: 0.747\n",
      "Infrastructure: 0.091\n",
      "Faculty: 0.080\n",
      "Academic: 0.079\n",
      "UG_fee: 0.002\n",
      "PG_fee: 0.000\n"
     ]
    },
    {
     "data": {
      "image/png": "[encoded data removed]",
      "text/plain": [
       "<Figure size 1000x600 with 1 Axes>"
      ]
     },
     "metadata": {},
     "output_type": "display_data"
    }
   ],
   "source": [
    "import pandas as pd\n",
    "import numpy as np\n",
    "from sklearn.model_selection import train_test_split\n",
    "from sklearn.preprocessing import StandardScaler, LabelEncoder\n",
    "from sklearn.metrics import mean_squared_error, r2_score\n",
    "from sklearn.ensemble import RandomForestRegressor\n",
    "import matplotlib.pyplot as plt\n",
    "\n",
    "# Load the data\n",
    "df = pd.read_csv(r'C:\\Users\\Mayank Rathore\\Desktop\\College-Predictor-System\\College_data_updated.csv')\n",
    "\n",
    "# Convert '--' to NaN\n",
    "df = df.replace('--', np.nan)\n",
    "\n",
    "# Convert all relevant columns to numeric\n",
    "numeric_columns = ['UG_fee', 'PG_fee', 'Rating', 'Academic', 'Faculty', 'Infrastructure', 'Placement']\n",
    "for col in numeric_columns:\n",
    "    df[col] = pd.to_numeric(df[col], errors='coerce')\n",
    "\n",
    "# Drop rows with NaN values in the target variable\n",
    "df = df.dropna(subset=['Placement'])\n",
    "\n",
    "# Store college names separately\n",
    "college_names = df['College_Name']\n",
    "\n",
    "# Select features (excluding College_Name for training)\n",
    "features = ['Rating', 'Academic', 'Faculty', 'Infrastructure', 'UG_fee', 'PG_fee']\n",
    "X = df[features].copy()\n",
    "y = df['Placement']\n",
    "\n",
    "# Handle missing values in features properly\n",
    "for column in features:\n",
    "    X.loc[:, column] = X[column].fillna(X[column].mean())\n",
    "\n",
    "# Split the data\n",
    "X_train, X_test, y_train, y_test = train_test_split(X, y, test_size=0.2, random_state=42)\n",
    "\n",
    "# Scale the features\n",
    "scaler = StandardScaler()\n",
    "X_train_scaled = scaler.fit_transform(X_train)\n",
    "X_test_scaled = scaler.transform(X_test)\n",
    "\n",
    "# Train Random Forest\n",
    "rf_model = RandomForestRegressor(n_estimators=100, random_state=42)\n",
    "rf_model.fit(X_train_scaled, y_train)\n",
    "\n",
    "# Function to recommend colleges based on input criteria\n",
    "def recommend_colleges(rating, academic, faculty, infrastructure, ug_fee, pg_fee, top_n=5):\n",
    "    # Create input data\n",
    "    input_data = pd.DataFrame([[rating, academic, faculty, infrastructure, ug_fee, pg_fee]], \n",
    "                             columns=features)\n",
    "    \n",
    "    # Scale the input\n",
    "    input_scaled = scaler.transform(input_data)\n",
    "    \n",
    "    # Predict placement score\n",
    "    predicted_placement = rf_model.predict(input_scaled)[0]\n",
    "    \n",
    "    # Create a dataframe with all colleges and their features\n",
    "    all_colleges_df = pd.DataFrame({\n",
    "        'College_Name': college_names,\n",
    "        'Rating': df['Rating'],\n",
    "        'Academic': df['Academic'],\n",
    "        'Faculty': df['Faculty'],\n",
    "        'Infrastructure': df['Infrastructure'],\n",
    "        'UG_fee': df['UG_fee'],\n",
    "        'PG_fee': df['PG_fee'],\n",
    "        'Actual_Placement': df['Placement']\n",
    "    })\n",
    "    \n",
    "    # Sort by actual placement score\n",
    "    recommendations = all_colleges_df.sort_values('Actual_Placement', ascending=False)\n",
    "    \n",
    "    print(f\"\\nPredicted Placement Score for your criteria: {predicted_placement:.2f}\")\n",
    "    print(f\"\\nTop {top_n} Recommended Colleges based on placement scores:\")\n",
    "    print(\"\\nCollege Name | Placement Score | Rating | Academic Score\")\n",
    "    print(\"-\" * 60)\n",
    "    \n",
    "    for idx, row in recommendations.head(top_n).iterrows():\n",
    "        print(f\"{row['College_Name']:<30} | {row['Actual_Placement']:.2f} | {row['Rating']:.2f} | {row['Academic']:.2f}\")\n",
    "    \n",
    "    return predicted_placement, recommendations.head(top_n)\n",
    "\n",
    "# Example usage\n",
    "print(\"\\nExample College Recommendations:\")\n",
    "predict_score, recommended_colleges = recommend_colleges(\n",
    "    rating=8.5,\n",
    "    academic=8.0,\n",
    "    faculty=7.5,\n",
    "    infrastructure=8.0,\n",
    "    ug_fee=50000,\n",
    "    pg_fee=60000\n",
    ")\n",
    "\n",
    "# Feature importance analysis\n",
    "importance = rf_model.feature_importances_\n",
    "feat_importance = pd.DataFrame({\n",
    "    'Feature': features,\n",
    "    'Importance': importance\n",
    "})\n",
    "feat_importance = feat_importance.sort_values('Importance', ascending=False)\n",
    "\n",
    "print(\"\\nFeature Importance:\")\n",
    "for idx, row in feat_importance.iterrows():\n",
    "    print(f\"{row['Feature']}: {row['Importance']:.3f}\")\n",
    "\n",
    "# Plot feature importance\n",
    "plt.figure(figsize=(10, 6))\n",
    "plt.bar(feat_importance['Feature'], feat_importance['Importance'])\n",
    "plt.xticks(rotation=45)\n",
    "plt.title('Feature Importance in Predicting Placement')\n",
    "plt.tight_layout()\n",
    "plt.show()"
   ]
  },
  {
   "cell_type": "markdown",
   "metadata": {},
   "source": [
    "t5"
   ]
  },
  {
   "cell_type": "markdown",
   "metadata": {},
   "source": [
    "# **<span style=\"color:#ff3385;\">🤘 Conclusion</span>**\n",
    "It takes a great deal of effort to make it to elite engineering schools of India. It is quite evident from the above analysis that the acceptance rate of highly reputed IIT and NIT is quite low. Also, the top rankers get into these schools along those who have attained certain haigh ranks or a quota via some source such as state.\n",
    "***"
   ]
  }
 ],
 "metadata": {
  "kernelspec": {
   "display_name": "myenv",
   "language": "python",
   "name": "python3"
  },
  "language_info": {
   "codemirror_mode": {
    "name": "ipython",
    "version": 3
   },
   "file_extension": ".py",
   "mimetype": "text/x-python",
   "name": "python",
   "nbconvert_exporter": "python",
   "pygments_lexer": "ipython3",
   "version": "3.11.2"
  }
 },
 "nbformat": 4,
 "nbformat_minor": 4
}
